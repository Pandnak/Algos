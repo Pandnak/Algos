{
 "cells": [
  {
   "cell_type": "markdown",
   "metadata": {},
   "source": [
    "## Сортировка Шелла"
   ]
  },
  {
   "cell_type": "code",
   "execution_count": 39,
   "metadata": {},
   "outputs": [],
   "source": [
    "def  shell_sort(a):\n",
    "    n = len(a)\n",
    "    gap = n // 2\n",
    "    while gap > 0:\n",
    "        for cur in range(gap, n):\n",
    "            m_gap = cur\n",
    "            while m_gap >= gap  and a[m_gap] < a[m_gap - gap]:\n",
    "                a[m_gap - gap], a[m_gap] = a[m_gap], a[m_gap - gap]\n",
    "                m_gap -= m_gap\n",
    "        gap //= 2\n",
    "\n",
    "    return a"
   ]
  },
  {
   "cell_type": "code",
   "execution_count": 41,
   "metadata": {},
   "outputs": [
    {
     "data": {
      "text/plain": [
       "[2, 6, 7, 8, 9, 13, 34, 35]"
      ]
     },
     "execution_count": 41,
     "metadata": {},
     "output_type": "execute_result"
    }
   ],
   "source": [
    "a = [35, 6, 2, 7, 8, 9, 13, 34]\n",
    "shell_sort(a)"
   ]
  },
  {
   "cell_type": "markdown",
   "metadata": {},
   "source": [
    "## Feed animals"
   ]
  },
  {
   "cell_type": "markdown",
   "metadata": {},
   "source": []
  },
  {
   "cell_type": "code",
   "execution_count": 42,
   "metadata": {},
   "outputs": [],
   "source": [
    "def feed(animals, food):\n",
    "    if len(animals) == 0 or len(food) == 0:\n",
    "        return 0\n",
    "\n",
    "    animals = shell_sort(animals)\n",
    "    food = shell_sort(food)\n",
    "\n",
    "    count = 0\n",
    "\n",
    "    for f in food:\n",
    "        if f >= animals[count]:\n",
    "            count += 1\n",
    "\n",
    "        if count == len(animals):\n",
    "            break\n",
    "\n",
    "    return count"
   ]
  },
  {
   "cell_type": "markdown",
   "metadata": {},
   "source": [
    "## Найти разницу двух строк"
   ]
  },
  {
   "cell_type": "code",
   "execution_count": 43,
   "metadata": {},
   "outputs": [],
   "source": [
    "def find_difference(a, b):\n",
    "    if len(a) == len(b):\n",
    "        return ''\n",
    "\n",
    "    letters = {}\n",
    "\n",
    "    for char in a:\n",
    "        if char in letters:\n",
    "            letters[char] += 1\n",
    "        else:\n",
    "            letters[char] = 1\n",
    "\n",
    "    for char in b:\n",
    "        if char in letters:\n",
    "            letters[char] -= 1\n",
    "            if (letters[char] == 0):\n",
    "                letters.pop(char)\n",
    "        else:\n",
    "            return char\n",
    "\n",
    "    if (letters != {}):\n",
    "        return list(letters.keys())[0]"
   ]
  },
  {
   "cell_type": "code",
   "execution_count": 44,
   "metadata": {},
   "outputs": [
    {
     "data": {
      "text/plain": [
       "''"
      ]
     },
     "execution_count": 44,
     "metadata": {},
     "output_type": "execute_result"
    }
   ],
   "source": [
    "a = 'uio'\n",
    "b = \"uio\"\n",
    "\n",
    "find_difference(b, a)\n"
   ]
  },
  {
   "cell_type": "markdown",
   "metadata": {},
   "source": [
    "## Сумма двух элементов массива"
   ]
  },
  {
   "cell_type": "code",
   "execution_count": 45,
   "metadata": {},
   "outputs": [],
   "source": [
    "def sum_two_elements(a, target):\n",
    "    idxes = {}\n",
    "\n",
    "    for i in range(len(a)):\n",
    "        idxes[a[i]] = i\n",
    "\n",
    "    for i in range(len(a)):\n",
    "        diff = target - a[i]\n",
    "        if diff in idxes:\n",
    "            return [i, idxes[diff]]\n",
    "\n",
    "    return []"
   ]
  },
  {
   "cell_type": "code",
   "execution_count": 46,
   "metadata": {},
   "outputs": [
    {
     "name": "stdout",
     "output_type": "stream",
     "text": [
      "[0, 3]\n"
     ]
    }
   ],
   "source": [
    "a = [1,6,3,8,34,4,3,7,2,5,6,0,12]\n",
    "\n",
    "print(sum_two_elements(a, 9))"
   ]
  },
  {
   "cell_type": "code",
   "execution_count": null,
   "metadata": {},
   "outputs": [],
   "source": []
  }
 ],
 "metadata": {
  "kernelspec": {
   "display_name": "Python 3",
   "language": "python",
   "name": "python3"
  },
  "language_info": {
   "codemirror_mode": {
    "name": "ipython",
    "version": 3
   },
   "file_extension": ".py",
   "mimetype": "text/x-python",
   "name": "python",
   "nbconvert_exporter": "python",
   "pygments_lexer": "ipython3",
   "version": "3.11.9"
  }
 },
 "nbformat": 4,
 "nbformat_minor": 2
}
