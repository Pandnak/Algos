{
 "cells": [
  {
   "cell_type": "markdown",
   "metadata": {},
   "source": [
    "## Сортировка Шелла"
   ]
  },
  {
   "cell_type": "markdown",
   "metadata": {},
   "source": [
    "Свойства сортировки Шелла:\n",
    "1. Усовершенствованный алгоритм сортировки вставками (?)\n",
    "2. Сравниваем не рядом стоящие элементы, а элементы, которые располагаются на определенном удалении (шаге) друг от друга.\n",
    "3. На каждой итерации шаг уменьшается в два раза, пока не станет равным единицы\n",
    "4. На последнем проходе, когда gap = 1 сортировка вырождается в сортировку вставками.\n"
   ]
  },
  {
   "cell_type": "code",
   "execution_count": 1,
   "metadata": {},
   "outputs": [],
   "source": [
    "def shell_sort(a):\n",
    "    n = len(a)\n",
    "    gap = n // 2\n",
    "    while gap > 0:\n",
    "        for cur in range(gap, n):\n",
    "            m_gap = cur\n",
    "            while m_gap - gap >= 0  and a[m_gap] < a[m_gap - gap]:\n",
    "                a[m_gap - gap], a[m_gap] = a[m_gap], a[m_gap - gap]\n",
    "                m_gap -= m_gap\n",
    "        gap //= 2\n",
    "\n",
    "    return a"
   ]
  },
  {
   "cell_type": "code",
   "execution_count": 2,
   "metadata": {},
   "outputs": [
    {
     "data": {
      "text/plain": [
       "[2, 6, 7, 8, 9, 13, 34, 35]"
      ]
     },
     "execution_count": 2,
     "metadata": {},
     "output_type": "execute_result"
    }
   ],
   "source": [
    "a = [35, 6, 2, 7, 8, 9, 13, 34]\n",
    "shell_sort(a)"
   ]
  },
  {
   "cell_type": "markdown",
   "metadata": {},
   "source": [
    "## Feed animals\n",
    "\n",
    "**Условие:** В небольшом зоопарке есть некоторое количество животных.\n",
    "Каждое животное потребляет какой-то объем еды, выраженный в целочисленном\n",
    "значении. Например, еноту нужна 1-порция еды, зебре 2, пантере 3, льву 4,\n",
    "жирафу 8 и т.д.\n",
    "\n",
    "Каждый день, смотритель зоопарка привозит еду такими же порциями. То есть за\n",
    "раз он привозит 8, 3, 9, 1, 7. Порция на 8 может накормить одно животное один\n",
    "раз. То есть такая порция может накормить либо енота, либо льва, либо жирафа,\n",
    "но не может накормить, например зебру и енота. Только кого-то одного.\n",
    "Надо написать функцию, которая определит, сколько из переданных животных\n",
    "может накормить заданное количество еды."
   ]
  },
  {
   "cell_type": "code",
   "execution_count": 42,
   "metadata": {},
   "outputs": [],
   "source": [
    "def feed(animals, food):\n",
    "    if len(animals) == 0 or len(food) == 0:\n",
    "        return 0\n",
    "\n",
    "    animals = shell_sort(animals)\n",
    "    food = shell_sort(food)\n",
    "\n",
    "    count = 0\n",
    "\n",
    "    for f in food:\n",
    "        if f >= animals[count]:\n",
    "            count += 1\n",
    "\n",
    "        if count == len(animals):\n",
    "            break\n",
    "\n",
    "    return count"
   ]
  },
  {
   "cell_type": "markdown",
   "metadata": {},
   "source": [
    "## Найти разницу двух строк\n",
    "**Условие:** На вход функции подается две строки: a и b. Строка b образована из строки a путем перемешивания и добавления одной буквы. Необходимо вернуть эту букву.\n",
    "\n",
    "a: \"uio\" b: \"oeiu\"\n",
    "\n",
    "результат: \"e\"\n",
    "\n",
    "a: \"fe\" b: \"efo\"\n",
    "\n",
    "результат: \"o\"\n",
    "\n",
    "a: \"ab\", b: \"ab\"\n",
    "\n",
    "результат: \"\"\n",
    "\n",
    "a: \"bbb\", b: \"bbbb\"\n",
    "\n",
    "результат: \"b\"\n"
   ]
  },
  {
   "cell_type": "code",
   "execution_count": 7,
   "metadata": {},
   "outputs": [],
   "source": [
    "def find_difference(a, b):\n",
    "    if len(a) == len(b):\n",
    "        return ''\n",
    "\n",
    "    letters = {}\n",
    "\n",
    "    for char in a:\n",
    "        if char in letters:\n",
    "            letters[char] += 1\n",
    "        else:\n",
    "            letters[char] = 1\n",
    "\n",
    "    for char in b:\n",
    "        if char in letters:\n",
    "            letters[char] -= 1\n",
    "            if (letters[char] == 0):\n",
    "                letters.pop(char)\n",
    "        else:\n",
    "            return char\n",
    "\n",
    "    # В данной задаче этот случай не реализуется\n",
    "    # if (letters != {}):\n",
    "    #     return list(letters.keys())[0]"
   ]
  },
  {
   "cell_type": "code",
   "execution_count": 10,
   "metadata": {},
   "outputs": [
    {
     "name": "stdout",
     "output_type": "stream",
     "text": [
      "e\n",
      "o\n",
      "\n",
      "b\n"
     ]
    }
   ],
   "source": [
    "a = 'uio'\n",
    "b = 'oeiu'\n",
    "print(find_difference(a, b))\n",
    "a = 'fe'\n",
    "b = 'efo'\n",
    "print(find_difference(a, b))\n",
    "a = 'ab'\n",
    "b = 'ab'\n",
    "print(find_difference(a, b))\n",
    "a = 'bbb'\n",
    "b = 'bbbb'\n",
    "print(find_difference(a, b))\n"
   ]
  },
  {
   "cell_type": "markdown",
   "metadata": {},
   "source": [
    "## Сумма двух элементов массива\n",
    "**Условие:** Дан не отсортированный массив целых чисел и некоторое число target. Необходимо написать функцию, которая найдет два таких элемента в массиве, сумма которых будет равна target.\n",
    "\n",
    "Один элемент можно использовать лишь один раз. В случае если два таких элемента не нашлось, возвращаем пустой массив"
   ]
  },
  {
   "cell_type": "code",
   "execution_count": 45,
   "metadata": {},
   "outputs": [],
   "source": [
    "def sum_two_elements(a, target):\n",
    "    idxes = {}\n",
    "\n",
    "    for i in range(len(a)):\n",
    "        idxes[a[i]] = i\n",
    "\n",
    "    for i in range(len(a)):\n",
    "        diff = target - a[i]\n",
    "        if diff in idxes:\n",
    "            return [i, idxes[diff]]\n",
    "\n",
    "    return []"
   ]
  },
  {
   "cell_type": "code",
   "execution_count": 46,
   "metadata": {},
   "outputs": [
    {
     "name": "stdout",
     "output_type": "stream",
     "text": [
      "[0, 3]\n"
     ]
    }
   ],
   "source": [
    "a = [1,6,3,8,34,4,3,7,2,5,6,0,12]\n",
    "\n",
    "print(sum_two_elements(a, 9))"
   ]
  },
  {
   "cell_type": "markdown",
   "metadata": {},
   "source": [
    "## Массив анаграмм\n",
    "**Условие:** Дан массив строк strs. Сгруппируйте анаграммы вместе. Вы можете вернуть ответ в любом порядке.\n",
    "Анаграмма - это слово или фраза, полученная путем перестановки букв другого\n",
    "слова или фразы, обычно с использованием всех исходных букв ровно один раз.\n",
    "\n",
    "**IN:** [\"eat\",\"tea\",\"tan\",\"ate\",\"nat\",\"bat\"]\n",
    "\n",
    "**OUT:** [[\"bat\"],[\"nat\",\"tan\"],[\"ate\",\"eat\",\"tea\"]]\n",
    "\n",
    "**IN:** [\"won\",\"now\",\"aaa\",\"ooo\",\"ooo\"]\n",
    "\n",
    "**OUT:** [[\"aaa\"],[\"ooo\", \"ooo\"],[\"won\",\"now\"]]\n"
   ]
  },
  {
   "cell_type": "code",
   "execution_count": 11,
   "metadata": {},
   "outputs": [],
   "source": [
    "def array_anagramm(words) -> list[list[str]]:\n",
    "    a = []\n",
    "    for w in words:\n",
    "        flag = True\n",
    "        for ana in a:\n",
    "            if (set(w) == set(ana[0])):\n",
    "                ana.append(w)\n",
    "                flag = False\n",
    "        if flag:\n",
    "            a.append([w])\n",
    "    return a"
   ]
  },
  {
   "cell_type": "code",
   "execution_count": 14,
   "metadata": {},
   "outputs": [
    {
     "data": {
      "text/plain": [
       "[['eat', 'tea', 'ate'], ['tan', 'nat'], ['bat']]"
      ]
     },
     "execution_count": 14,
     "metadata": {},
     "output_type": "execute_result"
    }
   ],
   "source": [
    "array_anagramm([\"eat\",\"tea\",\"tan\",\"ate\",\"nat\",\"bat\"])"
   ]
  },
  {
   "cell_type": "code",
   "execution_count": 13,
   "metadata": {},
   "outputs": [
    {
     "data": {
      "text/plain": [
       "[['won', 'now'], ['aaa'], ['ooo', 'ooo']]"
      ]
     },
     "execution_count": 13,
     "metadata": {},
     "output_type": "execute_result"
    }
   ],
   "source": [
    "array_anagramm([\"won\",\"now\",\"aaa\",\"ooo\",\"ooo\"])"
   ]
  },
  {
   "cell_type": "code",
   "execution_count": null,
   "metadata": {},
   "outputs": [],
   "source": []
  }
 ],
 "metadata": {
  "kernelspec": {
   "display_name": "Python 3",
   "language": "python",
   "name": "python3"
  },
  "language_info": {
   "codemirror_mode": {
    "name": "ipython",
    "version": 3
   },
   "file_extension": ".py",
   "mimetype": "text/x-python",
   "name": "python",
   "nbconvert_exporter": "python",
   "pygments_lexer": "ipython3",
   "version": "3.11.9"
  }
 },
 "nbformat": 4,
 "nbformat_minor": 2
}
