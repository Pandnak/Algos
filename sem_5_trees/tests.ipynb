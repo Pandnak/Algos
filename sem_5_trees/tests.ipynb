{
 "cells": [
  {
   "cell_type": "markdown",
   "metadata": {},
   "source": [
    "Описание класса бинарных деревьев"
   ]
  },
  {
   "cell_type": "code",
   "execution_count": 226,
   "metadata": {},
   "outputs": [],
   "source": [
    "class TreeNode:\n",
    "    def __init__(self, val=0, left=None, right=None):\n",
    "        self.val = val\n",
    "        self.left = left\n",
    "        self.right = right\n",
    "\n",
    "    def insert(self, val):\n",
    "        if self.val == val:\n",
    "            return\n",
    "        elif self.val < val:\n",
    "            if self.right is None:\n",
    "                self.right = TreeNode(val)\n",
    "            else:\n",
    "                self.right.insert(val)\n",
    "        else:  # self.val > val\n",
    "            if self.left is None:\n",
    "                self.left = TreeNode(val)\n",
    "            else:\n",
    "                self.left.insert(val)\n",
    "\n",
    "    def display(self):\n",
    "        lines, *_ = self._display_aux()\n",
    "        for line in lines:\n",
    "            print(line)\n",
    "\n",
    "    def _display_aux(self):\n",
    "        \"\"\"Returns list of strings, width, height, and horizontal coordinate of the root.\"\"\"\n",
    "        # No child.\n",
    "        if self.right is None and self.left is None:\n",
    "            line = \"%s\" % self.val\n",
    "            width = len(line)\n",
    "            height = 1\n",
    "            middle = width // 2\n",
    "            return [line], width, height, middle\n",
    "\n",
    "        # Only left child.\n",
    "        if self.right is None:\n",
    "            lines, n, p, x = self.left._display_aux()\n",
    "            s = \"%s\" % self.val\n",
    "            u = len(s)\n",
    "            first_line = (x + 1) * \" \" + (n - x - 1) * \"_\" + s\n",
    "            second_line = x * \" \" + \"/\" + (n - x - 1 + u) * \" \"\n",
    "            shifted_lines = [line + u * \" \" for line in lines]\n",
    "            return [first_line, second_line] + shifted_lines, n + u, p + 2, n + u // 2\n",
    "\n",
    "        # Only right child.\n",
    "        if self.left is None:\n",
    "            lines, n, p, x = self.right._display_aux()\n",
    "            s = \"%s\" % self.val\n",
    "            u = len(s)\n",
    "            first_line = s + x * \"_\" + (n - x) * \" \"\n",
    "            second_line = (u + x) * \" \" + \"\\\\\" + (n - x - 1) * \" \"\n",
    "            shifted_lines = [u * \" \" + line for line in lines]\n",
    "            return [first_line, second_line] + shifted_lines, n + u, p + 2, u // 2\n",
    "\n",
    "        # Two children.\n",
    "        left, n, p, x = self.left._display_aux()\n",
    "        right, m, q, y = self.right._display_aux()\n",
    "        s = \"%s\" % self.val\n",
    "        u = len(s)\n",
    "        first_line = (x + 1) * \" \" + (n - x - 1) * \"_\" + s + y * \"_\" + (m - y) * \" \"\n",
    "        second_line = (\n",
    "            x * \" \" + \"/\" + (n - x - 1 + u + y) * \" \" + \"\\\\\" + (m - y - 1) * \" \"\n",
    "        )\n",
    "        if p < q:\n",
    "            left += [n * \" \"] * (q - p)\n",
    "        elif q < p:\n",
    "            right += [m * \" \"] * (p - q)\n",
    "        zipped_lines = zip(left, right)\n",
    "        lines = [first_line, second_line] + [a + u * \" \" + b for a, b in zipped_lines]\n",
    "        return lines, n + m + u, max(p, q) + 2, n + u // 2\n"
   ]
  },
  {
   "cell_type": "markdown",
   "metadata": {},
   "source": [
    "## Восстановить бинарное дерево из массива\n",
    "\n",
    "**Условие:** Необходимо реализовать функцию, которая будет принимать на вход массив и выстраивать из него бинарное дерево по принципу обхода в ширину."
   ]
  },
  {
   "cell_type": "code",
   "execution_count": 306,
   "metadata": {},
   "outputs": [],
   "source": [
    "def prune(root):\n",
    "    nodes = [root]\n",
    "    while len(nodes) != 0 :\n",
    "        queue = []\n",
    "        for cur in nodes:\n",
    "            if cur.left:\n",
    "                queue.append(cur.left)\n",
    "            if cur.right:\n",
    "                queue.append(cur.right)\n",
    "\n",
    "        # проверяем на симметричность\n",
    "        # print(queue)\n",
    "        n = len(queue)\n",
    "        for i in range(n):\n",
    "            if queue[i].val == None:\n",
    "                queue.pop(i)\n",
    "                i -= 1\n",
    "        nodes = queue\n",
    "\n",
    "    return root\n",
    "\n",
    "\n",
    "def buildTree(arr, i):\n",
    "    if (i >= len(arr)):\n",
    "        return None\n",
    "\n",
    "    root = TreeNode(arr[i])\n",
    "    root.left = buildTree(arr, 2*i + 1)\n",
    "    root.right = buildTree(arr, 2*i + 2)\n",
    "\n",
    "    return root"
   ]
  },
  {
   "cell_type": "code",
   "execution_count": 307,
   "metadata": {},
   "outputs": [
    {
     "name": "stdout",
     "output_type": "stream",
     "text": [
      "  _3_  \n",
      " /   \\ \n",
      " 8   8 \n",
      "/ \\ / \\\n",
      "9 6 6 9\n"
     ]
    }
   ],
   "source": [
    "a = [3,8,8,9,6,6,9]\n",
    "tree = buildTree(a, 0)\n",
    "tree.display()"
   ]
  },
  {
   "cell_type": "markdown",
   "metadata": {},
   "source": [
    "## Симметричное дерево\n",
    "**Условие:** На вход функции подается бинарное дерево. Необходимо понять, является ли это дерево симметричным."
   ]
  },
  {
   "cell_type": "markdown",
   "metadata": {},
   "source": [
    "_Через обход в ширину:_"
   ]
  },
  {
   "cell_type": "code",
   "execution_count": 308,
   "metadata": {},
   "outputs": [],
   "source": [
    "def isSymmetricBFS(bt):\n",
    "    nodes = [bt]\n",
    "    while len(nodes) != 0 :\n",
    "        queue = []\n",
    "        for cur in nodes:\n",
    "            if cur.left:\n",
    "                queue.append(cur.left)\n",
    "            if cur.right:\n",
    "                queue.append(cur.right)\n",
    "\n",
    "        # проверяем на симметричность\n",
    "        # print(queue)\n",
    "        n = len(queue)\n",
    "        for i in range(n//2):\n",
    "            if (queue[i].val != queue[n - i - 1].val):\n",
    "                return False\n",
    "        nodes = queue\n",
    "\n",
    "    return True"
   ]
  },
  {
   "cell_type": "code",
   "execution_count": 309,
   "metadata": {},
   "outputs": [
    {
     "name": "stdout",
     "output_type": "stream",
     "text": [
      "  _3_  \n",
      " /   \\ \n",
      " 8   8 \n",
      "/ \\ / \\\n",
      "9 6 6 9\n",
      "isSymmetricBFS(tree) = True\n"
     ]
    }
   ],
   "source": [
    "a = [3,8,8,9,6,6,9]\n",
    "tree = buildTree(a, 0)\n",
    "tree.display()\n",
    "\n",
    "print(f'{isSymmetricBFS(tree) = }')"
   ]
  },
  {
   "cell_type": "markdown",
   "metadata": {},
   "source": [
    "_Через обход в глубину:_"
   ]
  },
  {
   "cell_type": "code",
   "execution_count": 310,
   "metadata": {},
   "outputs": [],
   "source": [
    "def depthSearch(root, res):\n",
    "    if (root == None):\n",
    "        return\n",
    "\n",
    "    depthSearch(root.left, res)\n",
    "    res.append(root.val)\n",
    "    depthSearch(root.right, res)\n",
    "\n",
    "\n",
    "def isSymmetricDFS(root):\n",
    "    if root == None:\n",
    "        return True\n",
    "\n",
    "    data = []\n",
    "    depthSearch(root, data)\n",
    "\n",
    "    n = len(data)\n",
    "    for i in range(n//2):\n",
    "        if (data[i] != data[n - i - 1]):\n",
    "            return False\n",
    "\n",
    "    return True"
   ]
  },
  {
   "cell_type": "code",
   "execution_count": 311,
   "metadata": {},
   "outputs": [
    {
     "name": "stdout",
     "output_type": "stream",
     "text": [
      "  _3_  \n",
      " /   \\ \n",
      " 8   8 \n",
      "/ \\ / \\\n",
      "9 6 6 9\n",
      "isSymmetricDFS(tree) = True\n"
     ]
    }
   ],
   "source": [
    "a = [3,8,8,9,6,6,9]\n",
    "tree = buildTree(a, 0)\n",
    "tree.display()\n",
    "print(f'{isSymmetricDFS(tree) = }')"
   ]
  },
  {
   "cell_type": "markdown",
   "metadata": {},
   "source": [
    "## Поиск минимальной глубины дерева\n",
    "На вход функции подается бинарное дерево. Необходимо\n",
    "найти минимальную глубину дерева.\n",
    "\n",
    "Минимальная глубина — это количество узлов на кратчайшем пути от корневого узла до\n",
    "ближайшего листового узла.\n"
   ]
  },
  {
   "cell_type": "markdown",
   "metadata": {},
   "source": [
    "_1. Через обход в глубину:_"
   ]
  },
  {
   "cell_type": "code",
   "execution_count": 312,
   "metadata": {},
   "outputs": [],
   "source": [
    "def minDepth(root):\n",
    "    if root.left == None and root.right == None:\n",
    "        return 1\n",
    "    if root.left != None and root.right != None:\n",
    "        return 1 + min(minDepth(root.left), minDepth(root.right))\n",
    "    if root.left != None:\n",
    "        return 1 + minDepth(root.left)\n",
    "    if root.right != None:\n",
    "        return 1 + minDepth(root.right)\n"
   ]
  },
  {
   "cell_type": "code",
   "execution_count": 313,
   "metadata": {},
   "outputs": [
    {
     "name": "stdout",
     "output_type": "stream",
     "text": [
      "       ______11__________     \n",
      "      /                  \\    \n",
      "  ____8____         ____16__  \n",
      " /         \\       /        \\ \n",
      " 2__      _9      _6__    None\n",
      "/   \\    /  \\    /    \\       \n",
      "7 None None 9  None None      \n",
      "------------------------------\n",
      "minDepth(tree) = 3\n"
     ]
    }
   ],
   "source": [
    "a = [11,8,16,2,9,6,None,7,None,None,9, None, None]\n",
    "tree = buildTree(a, 0)\n",
    "tree.display()\n",
    "print('-'*30)\n",
    "print(f'{minDepth(tree) = }')"
   ]
  },
  {
   "cell_type": "markdown",
   "metadata": {},
   "source": [
    "_2. Через обход в ширину:_"
   ]
  },
  {
   "cell_type": "code",
   "execution_count": 314,
   "metadata": {},
   "outputs": [],
   "source": [
    "def minDepthBFT(bt):\n",
    "    if bt == None:\n",
    "        return 0\n",
    "    nodes = [bt]\n",
    "    min_depth = 1\n",
    "    while len(nodes) != 0 :\n",
    "        queue = []\n",
    "        for cur in nodes:\n",
    "            fl = True\n",
    "            if cur.left:\n",
    "                queue.append(cur.left)\n",
    "                fl = False\n",
    "            if cur.right:\n",
    "                queue.append(cur.right)\n",
    "                fl = False\n",
    "            if (fl):\n",
    "                return min_depth\n",
    "\n",
    "        min_depth += 1\n",
    "        nodes = queue"
   ]
  },
  {
   "cell_type": "code",
   "execution_count": 315,
   "metadata": {},
   "outputs": [
    {
     "name": "stdout",
     "output_type": "stream",
     "text": [
      "       ______11__________     \n",
      "      /                  \\    \n",
      "  ____8____         ____16__  \n",
      " /         \\       /        \\ \n",
      " 2__      _9      _6__    None\n",
      "/   \\    /  \\    /    \\       \n",
      "7 None None 9  None None      \n",
      "-----------------------------------\n",
      "minDepthBFT(tree) = 3\n"
     ]
    }
   ],
   "source": [
    "a = [11,8,16,2,9,6,None,7,None,None,9, None, None]\n",
    "tree = buildTree(a, 0)\n",
    "tree.display()\n",
    "print('-'*35)\n",
    "print(f'{minDepthBFT(tree) = }')"
   ]
  },
  {
   "cell_type": "markdown",
   "metadata": {},
   "source": [
    "## Поиска максимального произведения\n",
    "**Условие:** Дано бинарное дерево поиска в виде массива. Необходимо найти\n",
    "произведение минимального и максимального значений."
   ]
  },
  {
   "cell_type": "code",
   "execution_count": 316,
   "metadata": {},
   "outputs": [],
   "source": [
    "def maxMinMultiplication(data):\n",
    "    if len(data) < 2:\n",
    "        return -1\n",
    "    if len(data) == 2:\n",
    "        return data[0] * data[1]\n",
    "    min_ind = 1\n",
    "    max_ind = 2\n",
    "    i = 1\n",
    "    while(i < len(data)):\n",
    "        min_ind = i\n",
    "        i = 2 * i + 1\n",
    "\n",
    "    i = 2\n",
    "    while(i < len(data)):\n",
    "        max_ind = i\n",
    "        i = 2 * i + 2\n",
    "\n",
    "    return data[min_ind] * data[max_ind]"
   ]
  },
  {
   "cell_type": "code",
   "execution_count": 317,
   "metadata": {},
   "outputs": [
    {
     "data": {
      "text/plain": [
       "231"
      ]
     },
     "execution_count": 317,
     "metadata": {},
     "output_type": "execute_result"
    }
   ],
   "source": [
    "maxMinMultiplication([16,12,18,11,15,17,21])"
   ]
  },
  {
   "cell_type": "markdown",
   "metadata": {},
   "source": [
    "# Являются ли 2 дерева одинаковыми"
   ]
  },
  {
   "cell_type": "code",
   "execution_count": 318,
   "metadata": {},
   "outputs": [],
   "source": [
    "def isSameTrees(a, b):\n",
    "    if a == None and b == None:\n",
    "        return True\n",
    "    if a == None or b == None:\n",
    "        return False\n",
    "\n",
    "    if (a.val != b.val):\n",
    "        return False\n",
    "\n",
    "    return isSameTrees(a.left, b.left) and isSameTrees(a.right, b.right)"
   ]
  },
  {
   "cell_type": "code",
   "execution_count": 319,
   "metadata": {},
   "outputs": [
    {
     "name": "stdout",
     "output_type": "stream",
     "text": [
      "       ______11__________     \n",
      "      /                  \\    \n",
      "  ____8____         ____16__  \n",
      " /         \\       /        \\ \n",
      " 2__      _9      _6__    None\n",
      "/   \\    /  \\    /    \\       \n",
      "7 None None 9  None None      \n",
      "-----------------------------------\n",
      "       ______11__________     \n",
      "      /                  \\    \n",
      "  ____8____         ____16__  \n",
      " /         \\       /        \\ \n",
      " 2__      _9      _6__    None\n",
      "/   \\    /  \\    /    \\       \n",
      "7 None None 9  None None      \n",
      "-----------------------------------\n",
      "isSameTrees(treeA, treeB) = True\n"
     ]
    }
   ],
   "source": [
    "a = [11,8,16,2,9,6,None,7,None,None,9,None,None]\n",
    "b = [11,8,16,2,9,6,None,7,None,None,9,None,None]\n",
    "treeA = buildTree(a, 0)\n",
    "treeB = buildTree(a, 0)\n",
    "\n",
    "treeA.display()\n",
    "print('-'*35)\n",
    "treeB.display()\n",
    "print('-'*35)\n",
    "print(f'{isSameTrees(treeA, treeB) = }')"
   ]
  },
  {
   "cell_type": "markdown",
   "metadata": {},
   "source": [
    "## Число бинарных деревьев поиска\n",
    "Дано число узлов $n$. Необходимо сказать, сколько различных бинарных деревьев поиска можно построить с заданным количеством узлов."
   ]
  },
  {
   "cell_type": "code",
   "execution_count": 320,
   "metadata": {},
   "outputs": [],
   "source": [
    "def amountBTS(n):\n",
    "    if (n <= 1):\n",
    "        return 1\n",
    "    sum = 0\n",
    "    for i in range(n):\n",
    "        l = amountBTS(i)\n",
    "        r = amountBTS(n - i - 1)\n",
    "        sum += l * r\n",
    "    return sum\n"
   ]
  },
  {
   "cell_type": "code",
   "execution_count": 321,
   "metadata": {},
   "outputs": [
    {
     "data": {
      "text/plain": [
       "5"
      ]
     },
     "execution_count": 321,
     "metadata": {},
     "output_type": "execute_result"
    }
   ],
   "source": [
    "amountBTS(3)"
   ]
  }
 ],
 "metadata": {
  "kernelspec": {
   "display_name": "Python 3",
   "language": "python",
   "name": "python3"
  },
  "language_info": {
   "codemirror_mode": {
    "name": "ipython",
    "version": 3
   },
   "file_extension": ".py",
   "mimetype": "text/x-python",
   "name": "python",
   "nbconvert_exporter": "python",
   "pygments_lexer": "ipython3",
   "version": "3.11.9"
  }
 },
 "nbformat": 4,
 "nbformat_minor": 2
}
