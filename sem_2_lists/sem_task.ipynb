{
 "cells": [
  {
   "cell_type": "code",
   "execution_count": 13,
   "metadata": {},
   "outputs": [],
   "source": [
    "from custom_types import Node, LinkedList, print_list"
   ]
  },
  {
   "cell_type": "code",
   "execution_count": 15,
   "metadata": {},
   "outputs": [
    {
     "name": "stdout",
     "output_type": "stream",
     "text": [
      "3->5->4->7->9->None\n"
     ]
    }
   ],
   "source": [
    "l = LinkedList([3, 5, 4, 7, 9])\n",
    "print_list(l.head)"
   ]
  },
  {
   "cell_type": "markdown",
   "metadata": {},
   "source": [
    "## Проверить, является ли список циклическим\n",
    "\n",
    "__Условие:__ Дан односвязный список. Необходимо\n",
    "проверить, является ли этот список циклическим.\n",
    "\n",
    "__Прим.:__ Циклическим (кольцевым) списком называется\n",
    "список у которого последний узел ссылается на один из предыдущих узлов."
   ]
  },
  {
   "cell_type": "code",
   "execution_count": 5,
   "metadata": {},
   "outputs": [],
   "source": [
    "from check_cycle import has_cycle"
   ]
  },
  {
   "cell_type": "code",
   "execution_count": 6,
   "metadata": {},
   "outputs": [
    {
     "data": {
      "text/plain": [
       "False"
      ]
     },
     "execution_count": 6,
     "metadata": {},
     "output_type": "execute_result"
    }
   ],
   "source": [
    "a = Node(1)\n",
    "b = Node(2)\n",
    "c = Node(3)\n",
    "d = Node(4)\n",
    "\n",
    "\n",
    "a.next = b\n",
    "b.next = c\n",
    "c.next = d\n",
    "has_cycle(a)"
   ]
  },
  {
   "cell_type": "code",
   "execution_count": 7,
   "metadata": {},
   "outputs": [
    {
     "data": {
      "text/plain": [
       "True"
      ]
     },
     "execution_count": 7,
     "metadata": {},
     "output_type": "execute_result"
    }
   ],
   "source": [
    "c.next = a\n",
    "has_cycle(a)"
   ]
  },
  {
   "cell_type": "markdown",
   "metadata": {},
   "source": [
    "## Развернуть односвязный список\n",
    "\n",
    "__Условие:__ Необходимо написать функцию, которая\n",
    "принимает на вход односвязный список и возвращает список со значениями в обратном порядке."
   ]
  },
  {
   "cell_type": "code",
   "execution_count": 42,
   "metadata": {},
   "outputs": [
    {
     "name": "stdout",
     "output_type": "stream",
     "text": [
      "1->2->3->4->None\n",
      "4->3->2->1->None\n"
     ]
    }
   ],
   "source": [
    "from reverse import reverseLinkedList\n",
    "a = Node(1)\n",
    "b = Node(2)\n",
    "c = Node(3)\n",
    "d = Node(4)\n",
    "\n",
    "\n",
    "a.next = b\n",
    "b.next = c\n",
    "c.next = d\n",
    "\n",
    "print_list(a)\n",
    "a = reverseLinkedList(a)\n",
    "print_list(a)"
   ]
  },
  {
   "cell_type": "markdown",
   "metadata": {},
   "source": [
    "## Найти середину списка\n",
    "\n",
    "__Условие:__ Дан связный список. Необходимо найти середину списка. Сделать это необходимо за O(n) без дополнительных аллокаций."
   ]
  },
  {
   "cell_type": "code",
   "execution_count": 43,
   "metadata": {},
   "outputs": [],
   "source": [
    "# Найти середину списка\n",
    "from find_middle import find_middle\n",
    "a = Node(1)\n",
    "b = Node(2)\n",
    "c = Node(3)\n",
    "d = Node(4)\n",
    "\n",
    "\n",
    "a.next = b\n",
    "b.next = c\n",
    "c.next = d\n",
    "\n",
    "find_middle(a).value"
   ]
  },
  {
   "cell_type": "markdown",
   "metadata": {},
   "source": [
    "## Удалить элемент по значению из односвязного списка\n",
    "\n",
    "__Условие:__ Необходимо написать функцию, которая\n",
    "принимает на вход односвязный список и\n",
    "некоторое целое число val. Необходимо удалить\n",
    "узел(-ы) из списка, значение(-я) которого(-ых) равно(-ы) val."
   ]
  },
  {
   "cell_type": "code",
   "execution_count": 8,
   "metadata": {},
   "outputs": [],
   "source": [
    "from delete import delete, removeElements"
   ]
  },
  {
   "cell_type": "code",
   "execution_count": 9,
   "metadata": {},
   "outputs": [
    {
     "name": "stdout",
     "output_type": "stream",
     "text": [
      "2->2->2->2->None\n",
      "None\n"
     ]
    }
   ],
   "source": [
    "a = Node(2)\n",
    "b = Node(2)\n",
    "c = Node(2)\n",
    "d = Node(2)\n",
    "a.next = b\n",
    "b.next = c\n",
    "c.next = d\n",
    "print_list(a)\n",
    "print_list(delete(a, 2))"
   ]
  },
  {
   "cell_type": "code",
   "execution_count": 10,
   "metadata": {},
   "outputs": [
    {
     "name": "stdout",
     "output_type": "stream",
     "text": [
      "2->2->2->2->None\n",
      "None\n",
      "None\n"
     ]
    }
   ],
   "source": [
    "print_list(a)\n",
    "print_list(removeElements(b, 2))\n",
    "print_list(removeElements(a, 2))\n"
   ]
  },
  {
   "cell_type": "code",
   "execution_count": 11,
   "metadata": {},
   "outputs": [
    {
     "name": "stdout",
     "output_type": "stream",
     "text": [
      "2->7->4->8->9->None\n"
     ]
    }
   ],
   "source": [
    "a = LinkedList([2, 7, 4, 8, 9])\n",
    "print_list(a.head)"
   ]
  },
  {
   "cell_type": "markdown",
   "metadata": {},
   "source": [
    "## Слияние 2 отсортированных списков. \n",
    "\n",
    "__Условие:__ написать функцию, которая сливает 2 отсортированных списка в 1 отсортированный список. Сложость по памяти O(1). Сложность по времени O(n).\n",
    "\n",
    "\n",
    "**Пример 1**\n",
    "\n",
    "**In:** \n",
    "```\n",
    "[3, 6, 8] \n",
    "[4, 7, 9, 11]\n",
    "```\n",
    "**Out:** \n",
    "```\n",
    "[3, 4, 6, 7, 8, 9, 11]\n",
    "```"
   ]
  },
  {
   "cell_type": "code",
   "execution_count": 50,
   "metadata": {},
   "outputs": [],
   "source": [
    "from merge import merge_lists"
   ]
  },
  {
   "cell_type": "code",
   "execution_count": 51,
   "metadata": {},
   "outputs": [
    {
     "name": "stdout",
     "output_type": "stream",
     "text": [
      "3->6->8->None\n",
      "4->7->9->11->None\n",
      "3->4->6->7->8->9->11->None\n"
     ]
    }
   ],
   "source": [
    "a = LinkedList([3, 6, 8])\n",
    "b = LinkedList([4, 7, 9, 11])\n",
    "\n",
    "print_list(a.head)\n",
    "print_list(b.head)\n",
    "print_list(merge_lists(a, b))"
   ]
  }
 ],
 "metadata": {
  "kernelspec": {
   "display_name": "Python 3",
   "language": "python",
   "name": "python3"
  },
  "language_info": {
   "codemirror_mode": {
    "name": "ipython",
    "version": 3
   },
   "file_extension": ".py",
   "mimetype": "text/x-python",
   "name": "python",
   "nbconvert_exporter": "python",
   "pygments_lexer": "ipython3",
   "version": "3.11.8"
  }
 },
 "nbformat": 4,
 "nbformat_minor": 2
}
