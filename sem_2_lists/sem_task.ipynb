{
 "cells": [
  {
   "cell_type": "code",
   "execution_count": 87,
   "metadata": {},
   "outputs": [],
   "source": [
    "class Node:\n",
    "    def __init__(self, val = 0):\n",
    "        self.value = val\n",
    "        self.next = None\n",
    "\n",
    "class LinkedList:\n",
    "    def __init__(self, list:list):\n",
    "        self.head = Node(list[0])\n",
    "        prev = self.head\n",
    "        for x in list[1:]:\n",
    "            cur = Node(x)\n",
    "            prev.next = cur\n",
    "            prev = cur\n",
    "        self.head\n",
    "\n",
    "\n",
    "def hasCycle(head: Node):\n",
    "    if head == None or head.next == None:\n",
    "        return False\n",
    "    slow = head\n",
    "    fast = head.next\n",
    "\n",
    "    while (slow != fast):\n",
    "        if fast == None or fast.next == None:\n",
    "            return False\n",
    "        slow = slow.next\n",
    "        fast = fast.next.next\n",
    "\n",
    "    return True"
   ]
  },
  {
   "cell_type": "code",
   "execution_count": 2,
   "metadata": {},
   "outputs": [],
   "source": [
    "def print_list(head):\n",
    "    cur = head\n",
    "    while (cur != None):\n",
    "        print(cur.value, '->', sep = '', end = '')\n",
    "        cur = cur.next\n",
    "    print('None')"
   ]
  },
  {
   "cell_type": "code",
   "execution_count": 3,
   "metadata": {},
   "outputs": [],
   "source": [
    "a = Node(1)\n",
    "b = Node(2)\n",
    "c = Node(3)\n",
    "d = Node(4)\n",
    "\n",
    "\n",
    "a.next = b\n",
    "b.next = c\n",
    "c.next = d"
   ]
  },
  {
   "cell_type": "code",
   "execution_count": 6,
   "metadata": {},
   "outputs": [
    {
     "data": {
      "text/plain": [
       "False"
      ]
     },
     "execution_count": 6,
     "metadata": {},
     "output_type": "execute_result"
    }
   ],
   "source": [
    "hasCycle(a)"
   ]
  },
  {
   "cell_type": "code",
   "execution_count": 7,
   "metadata": {},
   "outputs": [],
   "source": [
    "c.next = a"
   ]
  },
  {
   "cell_type": "code",
   "execution_count": 8,
   "metadata": {},
   "outputs": [
    {
     "data": {
      "text/plain": [
       "True"
      ]
     },
     "execution_count": 8,
     "metadata": {},
     "output_type": "execute_result"
    }
   ],
   "source": [
    "hasCycle(a)"
   ]
  },
  {
   "cell_type": "code",
   "execution_count": 39,
   "metadata": {},
   "outputs": [],
   "source": [
    "def reverseLinkedList(head):\n",
    "    prev = None\n",
    "    current = head\n",
    "\n",
    "    while (current != None):\n",
    "        next = current.next\n",
    "        current.next = prev\n",
    "        prev = current\n",
    "        current = next\n",
    "\n",
    "    head = prev\n",
    "    return head"
   ]
  },
  {
   "cell_type": "code",
   "execution_count": 43,
   "metadata": {},
   "outputs": [
    {
     "name": "stdout",
     "output_type": "stream",
     "text": [
      "1->2->3->None\n",
      "3->2->1->None\n"
     ]
    }
   ],
   "source": [
    "print_list(a)\n",
    "print_list(reverseLinkedList(a))"
   ]
  },
  {
   "cell_type": "markdown",
   "metadata": {},
   "source": [
    "## Найти "
   ]
  },
  {
   "cell_type": "code",
   "execution_count": 49,
   "metadata": {},
   "outputs": [],
   "source": [
    "# Найти середину списка\n",
    "def find_middle(head):\n",
    "    slow = fast = head\n",
    "\n",
    "    while (fast != None and fast.next != None):\n",
    "        slow = slow.next\n",
    "        fast = fast.next.next\n",
    "\n",
    "    return slow"
   ]
  },
  {
   "cell_type": "code",
   "execution_count": 52,
   "metadata": {},
   "outputs": [
    {
     "data": {
      "text/plain": [
       "3"
      ]
     },
     "execution_count": 52,
     "metadata": {},
     "output_type": "execute_result"
    }
   ],
   "source": [
    "find_middle(a).value"
   ]
  },
  {
   "cell_type": "code",
   "execution_count": 77,
   "metadata": {},
   "outputs": [],
   "source": [
    "def delete(head, value):\n",
    "   prev = None\n",
    "\n",
    "   while (head.value == value and head != None):\n",
    "      prev = head\n",
    "      head = head.next\n",
    "\n",
    "   cur = head\n",
    "   while (cur != None):\n",
    "      if (cur.value == value):\n",
    "         prev.next = cur.next\n",
    "      else:\n",
    "         prev = cur\n",
    "      cur = cur.next\n",
    "\n",
    "   return head\n",
    "\n",
    "def removeElements(head, val):\n",
    "   dummy = Node()\n",
    "   dummy.next = head\n",
    "   prev = dummy\n",
    "   cur = head\n",
    "   while (cur != None):\n",
    "      if (cur.value == val):\n",
    "         prev.next = cur.next\n",
    "      else:\n",
    "         prev = cur\n",
    "      cur = cur.next\n",
    "\n",
    "   return dummy.next\n"
   ]
  },
  {
   "cell_type": "code",
   "execution_count": 84,
   "metadata": {},
   "outputs": [
    {
     "name": "stdout",
     "output_type": "stream",
     "text": [
      "2->2->2->2->None\n"
     ]
    }
   ],
   "source": [
    "a = Node(2)\n",
    "b = Node(2)\n",
    "c = Node(2)\n",
    "d = Node(2)\n",
    "a.next = b\n",
    "b.next = c\n",
    "c.next = d\n",
    "print_list(a)\n",
    "# print_list(delete(a, 2))"
   ]
  },
  {
   "cell_type": "code",
   "execution_count": 85,
   "metadata": {},
   "outputs": [
    {
     "name": "stdout",
     "output_type": "stream",
     "text": [
      "2->2->2->2->None\n",
      "None\n",
      "None\n"
     ]
    }
   ],
   "source": [
    "print_list(a)\n",
    "print_list(removeElements(b, 2))\n",
    "print_list(removeElements(a, 2))\n"
   ]
  },
  {
   "cell_type": "code",
   "execution_count": 90,
   "metadata": {},
   "outputs": [
    {
     "name": "stdout",
     "output_type": "stream",
     "text": [
      "2->7->4->8->9->None\n"
     ]
    }
   ],
   "source": [
    "a = LinkedList([2, 7, 4, 8, 9])\n",
    "print_list(a.head)"
   ]
  },
  {
   "cell_type": "markdown",
   "metadata": {},
   "source": [
    "## Слияние 2 отсортированных списков. \n",
    "Условие: написать функцию, которая сливает 2 отсортированных списка в 1 отсортированный список. Сложость по памяти O(1). Сложность по времени O(n).\n",
    "\n",
    "\n",
    "**Пример 1**\n",
    "\n",
    "**In:** \n",
    "```\n",
    "[3, 6, 8] \n",
    "[4, 7, 9, 11]\n",
    "```\n",
    "**Out:** \n",
    "```\n",
    "[3, 4, 6, 7, 8, 9, 11]\n",
    "```"
   ]
  },
  {
   "cell_type": "code",
   "execution_count": null,
   "metadata": {},
   "outputs": [],
   "source": []
  }
 ],
 "metadata": {
  "kernelspec": {
   "display_name": "Python 3",
   "language": "python",
   "name": "python3"
  },
  "language_info": {
   "codemirror_mode": {
    "name": "ipython",
    "version": 3
   },
   "file_extension": ".py",
   "mimetype": "text/x-python",
   "name": "python",
   "nbconvert_exporter": "python",
   "pygments_lexer": "ipython3",
   "version": "3.11.8"
  }
 },
 "nbformat": 4,
 "nbformat_minor": 2
}
