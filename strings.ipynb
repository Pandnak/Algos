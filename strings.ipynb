{
 "cells": [
  {
   "cell_type": "markdown",
   "metadata": {},
   "source": [
    "## Поиск подстроки\n",
    "\n",
    "Дана строка s. Дана подстрока subs. Нужно найти индекс первого вхождения subs в s."
   ]
  },
  {
   "cell_type": "markdown",
   "metadata": {},
   "source": [
    "_brutto force алгоритм:_"
   ]
  },
  {
   "cell_type": "code",
   "execution_count": 38,
   "metadata": {},
   "outputs": [],
   "source": [
    "def findBF(s: str, subs: str) -> int:\n",
    "    \"\"\"\n",
    "    Находит индекс первого вхождения подстроки subs в строку s\n",
    "    методом грубой силы.\n",
    "    Алгоритм работает за O(len(s) * len(subs)).\n",
    "    \"\"\"\n",
    "\n",
    "    #Прикладываем начало подстроки к индексам от 0 до len(s) - len(subs) + 1\n",
    "    for i in range(len(s) - len(subs) + 1):\n",
    "        count = 0\n",
    "        for j in range(len(subs)):\n",
    "            if s[i + j] == subs[j]:\n",
    "                count += 1\n",
    "                # Если кол-во совпавших символов равно len(subs),\n",
    "                #  то нашли и и возвращаем i\n",
    "                if (count == len(subs)):\n",
    "                    return i\n",
    "    return None"
   ]
  },
  {
   "cell_type": "code",
   "execution_count": 42,
   "metadata": {},
   "outputs": [
    {
     "data": {
      "text/plain": [
       "11"
      ]
     },
     "execution_count": 42,
     "metadata": {},
     "output_type": "execute_result"
    }
   ],
   "source": [
    "findBF('avada kedavara', 'ara')"
   ]
  },
  {
   "cell_type": "markdown",
   "metadata": {},
   "source": [
    "_Алгоритм Бойера-Мура-Хорспула:_"
   ]
  },
  {
   "cell_type": "code",
   "execution_count": 52,
   "metadata": {},
   "outputs": [],
   "source": [
    "def printNeon(s, i):\n",
    "    print(s[:i].lower() + s[i].upper() + s[i+1:].lower())\n",
    "\n",
    "def findBMH(s: str, subs: str) -> int:\n",
    "    \"\"\"\n",
    "    Находит индекс первого вхождения подстроки subs в строку s\n",
    "    методом Бойера-Мура-Хорспула.\n",
    "    Алгоритм работает за O(len(s) * len(subs)).\n",
    "    \"\"\"\n",
    "\n",
    "    #Считаем таблицу смещений для подстроки\n",
    "    d = {}\n",
    "    for i in range(len(subs) - 2, -1, -1):\n",
    "        if not subs[i] in d:\n",
    "            d[subs[i]] = len(subs) - i - 1\n",
    "\n",
    "    # добавляем * для всех других символов\n",
    "    d['*'] = len(subs)\n",
    "\n",
    "    # Если размер подстроки больше подстроки, то индекса нет\n",
    "    if len(subs) > len(s):\n",
    "        return None\n",
    "\n",
    "    for i in range(len(subs) - 1, len(s)):\n",
    "        k = 0\n",
    "        j = 0\n",
    "        for j in range(len(subs) - 1, -1, -1):\n",
    "            if s[i-k] != subs[j]:\n",
    "\n",
    "                # Если не совпали на первом символе с конца, то проверяем по символу из s\n",
    "                if (j == len(subs) - 1):\n",
    "                    i += d[s[i - k]] - 1 if s[i] in d else d['*']\n",
    "\n",
    "                # Если не совпали на другом символе, то проверяем по символу из subs\n",
    "                else:\n",
    "                    i += d[subs[j]]\n",
    "                break\n",
    "\n",
    "            k += 1\n",
    "\n",
    "        # Если число совпавших символов равно длине строки, то возвращаем\n",
    "        if (j == 0):\n",
    "            return i - k + 1\n",
    "\n",
    "    return None"
   ]
  },
  {
   "cell_type": "code",
   "execution_count": 53,
   "metadata": {},
   "outputs": [
    {
     "data": {
      "text/plain": [
       "5"
      ]
     },
     "execution_count": 53,
     "metadata": {},
     "output_type": "execute_result"
    }
   ],
   "source": [
    "findBMH('meteodata', 'data')"
   ]
  },
  {
   "cell_type": "markdown",
   "metadata": {},
   "source": [
    "_Алгоритм Рабина-Карпа_\n",
    "\n",
    "Использует хэширование подстроки и подстрок строки такого же размера, что и искомая подстрока.\n",
    "\n",
    "Позволяет быстро находить несколько вхождений подстроки в строку."
   ]
  },
  {
   "cell_type": "markdown",
   "metadata": {},
   "source": [
    "Тут применяется хэш-функция вида: \n",
    "$h(s[1..m]) = (\\sum_{i=1}^m s[i]*x^{m-1}) mod(q)$"
   ]
  },
  {
   "cell_type": "code",
   "execution_count": 116,
   "metadata": {},
   "outputs": [],
   "source": [
    "def hash(s:str, x:int=31, q:int=2**31-1) -> int:\n",
    "    res = ord(s[0])\n",
    "    for i in range(1, len(s)):\n",
    "        res = res*x + ord(s[i])\n",
    "    return res % q"
   ]
  },
  {
   "cell_type": "markdown",
   "metadata": {},
   "source": [
    "В алгоритме Рабина-Карпа также применяется методика упрощенного счёта хэшей последующих подстрок на основе хэшей предыдущих подстрок, а именно:\n",
    "1. Из старого хеша вычитаем $s[i]*x^{(m-1)}$\n",
    "2. Оставшуюся часть умножаем на $x$\n",
    "3. Результат суммируем с кодом символа $s[i+m]$"
   ]
  },
  {
   "cell_type": "code",
   "execution_count": 138,
   "metadata": {},
   "outputs": [],
   "source": [
    "def findRK(s:str, subs:str) -> int:\n",
    "\n",
    "    # Для более высокой надежности работы хэш-функции в качестве x\n",
    "    # берутся простые числа, а в качестве q большие простые числа,\n",
    "    # например, некоторые из чисел Мерсенна, т.е. 2^n - 1\n",
    "    x = 31\n",
    "    q = 2**31 - 1\n",
    "\n",
    "    def hash(s:str, x:int=31, q:int=2**31-1) -> int:\n",
    "        res = ord(s[0])\n",
    "        for i in range(1, len(s)):\n",
    "            res = res*x + ord(s[i])\n",
    "        return res % q\n",
    "\n",
    "    m = len(subs)\n",
    "\n",
    "    # Вычисляем хэши\n",
    "    subs_hash = hash(subs)\n",
    "    cur_hash = hash(s[:m])\n",
    "\n",
    "    # Ищем одинаковые хэши\n",
    "    for i in range(len(s) - m + 1):\n",
    "        if (cur_hash == subs_hash):\n",
    "            k = 0\n",
    "            # Сравниваем строки, раз хэши одинаковые\n",
    "            for j in range(m):\n",
    "                if (s[i+j] == subs[j]):\n",
    "                    k += 1\n",
    "                    # Строки совпали, поэтому возвращаем индекс начала подстроки в s\n",
    "                    if (k == m):\n",
    "                        return i\n",
    "        #Подсчет нового хэша\n",
    "        cur_hash = ((cur_hash - ord(s[i]) * (x ** (m - 1))) * x + ord(s[i + m])) %q\n",
    "    return None"
   ]
  },
  {
   "cell_type": "code",
   "execution_count": 139,
   "metadata": {},
   "outputs": [
    {
     "data": {
      "text/plain": [
       "5"
      ]
     },
     "execution_count": 139,
     "metadata": {},
     "output_type": "execute_result"
    }
   ],
   "source": [
    "findRK('meteodata', 'data')"
   ]
  },
  {
   "cell_type": "code",
   "execution_count": 2,
   "metadata": {},
   "outputs": [
    {
     "name": "stdout",
     "output_type": "stream",
     "text": [
      "YES\n",
      "NO\n",
      "YES\n",
      "NO\n"
     ]
    }
   ],
   "source": [
    "n = int(input())\n",
    "\n",
    "pairs= set()\n",
    "list_Q = []\n",
    "\n",
    "def gcd(a, b):\n",
    "    while b:\n",
    "        a, b = b, a%b\n",
    "    return a\n",
    "\n",
    "for i in range(n):\n",
    "    coefs = list(map(int, input().split()))\n",
    "    a = coefs[0]\n",
    "    b = coefs[1]\n",
    "    g = gcd(a,b)\n",
    "    a /= g\n",
    "    b /= g\n",
    "\n",
    "    if (a * b < 0):\n",
    "        a = - abs(a)\n",
    "        b = abs(b)\n",
    "    else:\n",
    "        a = abs(a)\n",
    "        b = abs(b)\n",
    "    pairs.add((a,b))\n",
    "\n",
    "q = int(input())\n",
    "\n",
    "for i in range(q):\n",
    "    coefs = list(map(int, input().split()))\n",
    "    a = coefs[0]\n",
    "    b = coefs[1]\n",
    "    g = gcd(a,b)\n",
    "    a /= g\n",
    "    b /= g\n",
    "\n",
    "    if (a * b < 0):\n",
    "        a = - abs(a)\n",
    "        b = abs(b)\n",
    "    else:\n",
    "        a = abs(a)\n",
    "        b = abs(b)\n",
    "\n",
    "    print('YES' if ((a,b) in pairs) else 'NO')"
   ]
  },
  {
   "cell_type": "code",
   "execution_count": 28,
   "metadata": {},
   "outputs": [
    {
     "name": "stdout",
     "output_type": "stream",
     "text": [
      "0.18181818181818182\n",
      "79 81 "
     ]
    }
   ],
   "source": [
    "n = int(input())\n",
    "\n",
    "a = list(map(int, input().split()))\n",
    "\n",
    "def shell_sort(a):\n",
    "    n = len(a)\n",
    "    gap = n // 2\n",
    "    while gap > 0:\n",
    "        for cur in range(gap, n):\n",
    "            m_gap = cur\n",
    "            while m_gap - gap >= 0  and a[m_gap] < a[m_gap - gap]:\n",
    "                a[m_gap - gap], a[m_gap] = a[m_gap], a[m_gap - gap]\n",
    "                m_gap -= m_gap\n",
    "        gap //= 2\n",
    "\n",
    "    return a\n",
    "\n",
    "a = shell_sort(a)\n",
    "\n",
    "m = -1\n",
    "gap = len(a)//2\n",
    "im = -1\n",
    "for i in range(1, gap):\n",
    "    if (a[i+gap-1] - a[i] < m or m == -1):\n",
    "        m = a[i+gap-1] - a[i]\n",
    "        im = i\n",
    "\n",
    "l = m / (a[-1] - a[0])\n",
    "\n",
    "if (m * (a[-1] - a[-gap]) > (a[-1] - a[0]) * (a[gap-1] - a[0])):\n",
    "    l = (a[gap-1] - a[0]) / (a[-1] - a[-gap])\n",
    "    im = 0\n",
    "\n",
    "\n",
    "if (l > ((a[-1] - a[-gap]) / (a[gap-1] - a[0]))):\n",
    "    l = (a[-1] - a[-gap]) / (a[gap-1] - a[0])\n",
    "    im = gap\n",
    "\n",
    "print(l)\n",
    "for num in a[im:im+gap]:\n",
    "    print(num, end = ' ')"
   ]
  },
  {
   "cell_type": "code",
   "execution_count": 45,
   "metadata": {},
   "outputs": [
    {
     "name": "stdout",
     "output_type": "stream",
     "text": [
      "1 -1 1 0\n",
      "1 0 0 0\n",
      "2 -2 2 0\n",
      "2 -1 1 0\n",
      "2 0 1 1\n",
      "2 1 0 1\n",
      "3 -3 3 0\n",
      "3 -2 2 0\n",
      "3 -1 2 1\n",
      "3 0 1 1\n",
      "3 1 1 2\n",
      "3 2 0 2\n",
      "4 -3 3 0\n",
      "4 -2 3 1\n",
      "4 -1 2 1\n",
      "4 0 2 2\n",
      "4 1 1 2\n",
      "4 2 1 3\n",
      "4 3 0 3\n",
      "5 -3 4 1\n"
     ]
    },
    {
     "ename": "IndexError",
     "evalue": "list index out of range",
     "output_type": "error",
     "traceback": [
      "\u001b[1;31m---------------------------------------------------------------------------\u001b[0m",
      "\u001b[1;31mIndexError\u001b[0m                                Traceback (most recent call last)",
      "Cell \u001b[1;32mIn[45], line 11\u001b[0m\n\u001b[0;32m      8\u001b[0m         j \u001b[38;5;241m=\u001b[39m (\u001b[38;5;28msum\u001b[39m \u001b[38;5;241m+\u001b[39m diff) \u001b[38;5;241m/\u001b[39m\u001b[38;5;241m/\u001b[39m \u001b[38;5;241m2\u001b[39m\n\u001b[0;32m      9\u001b[0m         \u001b[38;5;28mprint\u001b[39m(\u001b[38;5;28msum\u001b[39m, diff, i, j)\n\u001b[1;32m---> 11\u001b[0m         \u001b[43ma\u001b[49m\u001b[43m[\u001b[49m\u001b[43mi\u001b[49m\u001b[43m]\u001b[49m[j] \u001b[38;5;241m=\u001b[39m k\n\u001b[0;32m     12\u001b[0m         k \u001b[38;5;241m+\u001b[39m\u001b[38;5;241m=\u001b[39m \u001b[38;5;241m1\u001b[39m\n\u001b[0;32m     14\u001b[0m \u001b[38;5;28;01mfor\u001b[39;00m s \u001b[38;5;129;01min\u001b[39;00m a:\n",
      "\u001b[1;31mIndexError\u001b[0m: list index out of range"
     ]
    }
   ],
   "source": [
    "N, M = 4, 7\n",
    "k = 1\n",
    "a = [[0] * M for _ in range(N)]\n",
    "\n",
    "for sum in range(0, N+M-2):\n",
    "    for diff in range(max(-(N-1), -sum), min(sum, M-1)):\n",
    "        i = (sum - diff) // 2\n",
    "        j = (sum + diff) // 2\n",
    "        print(sum, diff, i, j)\n",
    "\n",
    "        a[i][j] = k\n",
    "        k += 1\n",
    "\n",
    "for s in a:\n",
    "    print(s)"
   ]
  },
  {
   "cell_type": "code",
   "execution_count": 70,
   "metadata": {},
   "outputs": [
    {
     "ename": "SyntaxError",
     "evalue": "invalid syntax (962720677.py, line 20)",
     "output_type": "error",
     "traceback": [
      "\u001b[1;36m  Cell \u001b[1;32mIn[70], line 20\u001b[1;36m\u001b[0m\n\u001b[1;33m    break 1\u001b[0m\n\u001b[1;37m          ^\u001b[0m\n\u001b[1;31mSyntaxError\u001b[0m\u001b[1;31m:\u001b[0m invalid syntax\n"
     ]
    }
   ],
   "source": [
    "n, m = map(int, input().split())\n",
    "\n",
    "a = []\n",
    "for i in range(n):\n",
    "    a.append(list(input()))\n",
    "\n",
    "\n",
    "\n",
    "max_count = -1\n",
    "for i in range(n):\n",
    "    for j in range(m):\n",
    "        if a[i][j] == 1:\n",
    "            count = 1\n",
    "            #left up\n",
    "            k = 1\n",
    "            while(i - k >= 0 and j - k >= 0):\n",
    "                if a[i-k][j-k] == 1:\n",
    "                    count += 1\n",
    "                k += 1\n",
    "            #right up\n",
    "            k = 1\n",
    "            while(i - k >= 0 and j + k < M):\n",
    "                if a[i-k][j+k] == 1:\n",
    "                    count += 1\n",
    "                k += 1\n",
    "            #left down\n",
    "            k = 1\n",
    "            while(i + k < N  and j - k >= 0):\n",
    "                if a[i+k][j-k] == 1:\n",
    "                    count += 1\n",
    "                k += 1\n",
    "            #right down\n",
    "            k = 1\n",
    "            while(i + k < N  and j + k < M):\n",
    "                if a[i+k][j+k] == 1:\n",
    "                    count += 1\n",
    "                k += 1\n",
    "\n",
    "            max_count = max(max_count, count)\n",
    "\n",
    "print(max_count)\n"
   ]
  },
  {
   "cell_type": "code",
   "execution_count": null,
   "metadata": {},
   "outputs": [],
   "source": []
  }
 ],
 "metadata": {
  "kernelspec": {
   "display_name": "Python 3",
   "language": "python",
   "name": "python3"
  },
  "language_info": {
   "codemirror_mode": {
    "name": "ipython",
    "version": 3
   },
   "file_extension": ".py",
   "mimetype": "text/x-python",
   "name": "python",
   "nbconvert_exporter": "python",
   "pygments_lexer": "ipython3",
   "version": "3.11.9"
  }
 },
 "nbformat": 4,
 "nbformat_minor": 2
}
