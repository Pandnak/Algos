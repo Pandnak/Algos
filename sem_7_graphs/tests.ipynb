{
 "cells": [
  {
   "cell_type": "code",
   "execution_count": 2,
   "metadata": {},
   "outputs": [],
   "source": [
    "def find_connected_components(graph):\n",
    "    vis = [False] * (len(graph)+1)\n",
    "    # for i in range(1, len(graph)+1):\n",
    "    #     vis[i] = False\n",
    "    #\n",
    "    connected_components = []\n",
    "\n",
    "    for i in range(1, len(graph) + 1):\n",
    "        curNode = i\n",
    "        if not vis[curNode]:\n",
    "            components = []\n",
    "            dfs(graph, curNode, vis, components)\n",
    "            connected_components.append(components)\n",
    "\n",
    "    return   connected_components\n",
    "\n",
    "def dfs(graph, v, vis, comp):\n",
    "    vis[v] = True\n",
    "    comp.append(v)\n",
    "    for i in graph[v]:\n",
    "        if not vis[i]:\n",
    "            dfs(graph, i, vis, comp)"
   ]
  },
  {
   "cell_type": "code",
   "execution_count": 3,
   "metadata": {},
   "outputs": [],
   "source": [
    "graph = {\n",
    "1: [2, 3],\n",
    "2: [1, 3],\n",
    "3: [1, 2],\n",
    "4: [5],\n",
    "5: [4]\n",
    "}"
   ]
  },
  {
   "cell_type": "code",
   "execution_count": 4,
   "metadata": {},
   "outputs": [
    {
     "data": {
      "text/plain": [
       "[[1, 2, 3], [4, 5]]"
      ]
     },
     "execution_count": 4,
     "metadata": {},
     "output_type": "execute_result"
    }
   ],
   "source": [
    "find_connected_components(graph)"
   ]
  },
  {
   "cell_type": "markdown",
   "metadata": {},
   "source": [
    "## Раскраска графа"
   ]
  },
  {
   "cell_type": "code",
   "execution_count": 21,
   "metadata": {},
   "outputs": [],
   "source": [
    "def paint_graph(graph):\n",
    "    vis = [0] * (len(graph)+1)\n",
    "    color = 0\n",
    "    for i in range(1, len(graph) + 1):\n",
    "        curNode = i\n",
    "        if vis[curNode] == 0:\n",
    "            color +=  1\n",
    "            components = []\n",
    "            dfs_color(graph, curNode, vis, color)\n",
    "\n",
    "    return vis\n",
    "\n",
    "def dfs_color(graph, v, vis, color):\n",
    "    vis[v] = color\n",
    "    for i in graph[v]:\n",
    "        if not vis[i]:\n",
    "            dfs_color(graph, i, vis, color)"
   ]
  },
  {
   "cell_type": "code",
   "execution_count": 22,
   "metadata": {},
   "outputs": [
    {
     "data": {
      "text/plain": [
       "[0, 1, 1, 1, 2, 2]"
      ]
     },
     "execution_count": 22,
     "metadata": {},
     "output_type": "execute_result"
    }
   ],
   "source": [
    "paint_graph(graph)"
   ]
  },
  {
   "cell_type": "code",
   "execution_count": 37,
   "metadata": {},
   "outputs": [],
   "source": [
    "def has_cycle(graph):\n",
    "    vis = []\n",
    "    for v in graph:\n",
    "        if not v in vis:\n",
    "            if dfs_cycle(graph, v, None, vis):\n",
    "                return True\n",
    "\n",
    "    return False\n",
    "\n",
    "\n",
    "def dfs_cycle(graph, v, par=None, vis=[]):\n",
    "    vis.append(v)\n",
    "    for neigh in graph[v]:\n",
    "        if neigh != par:\n",
    "            if neigh in vis or dfs_cycle(graph, neigh, v, vis):\n",
    "                return True\n",
    "\n",
    "    return False"
   ]
  },
  {
   "cell_type": "code",
   "execution_count": 38,
   "metadata": {},
   "outputs": [],
   "source": [
    "graph = {\n",
    "1: [2, 3],\n",
    "2: [1, 3],\n",
    "3: [1, 2]\n",
    "}"
   ]
  },
  {
   "cell_type": "code",
   "execution_count": 39,
   "metadata": {},
   "outputs": [
    {
     "data": {
      "text/plain": [
       "True"
      ]
     },
     "execution_count": 39,
     "metadata": {},
     "output_type": "execute_result"
    }
   ],
   "source": [
    "has_cycle(graph)"
   ]
  },
  {
   "cell_type": "code",
   "execution_count": 40,
   "metadata": {},
   "outputs": [
    {
     "data": {
      "text/plain": [
       "False"
      ]
     },
     "execution_count": 40,
     "metadata": {},
     "output_type": "execute_result"
    }
   ],
   "source": [
    "graph = {\n",
    "1: [2],\n",
    "2: [1],\n",
    "3: []\n",
    "}\n",
    "has_cycle(graph)"
   ]
  },
  {
   "cell_type": "markdown",
   "metadata": {},
   "source": [
    "## Является ли граф деревом"
   ]
  },
  {
   "cell_type": "code",
   "execution_count": 41,
   "metadata": {},
   "outputs": [],
   "source": [
    "def is_tree(graph, start):\n",
    "    vis = []\n",
    "    queue = [start]\n",
    "    parent = {start:None}\n",
    "\n",
    "    while queue:\n",
    "        node = queue.pop(0)\n",
    "        vis.append(node)\n",
    "        for child in graph[node]:\n",
    "            if not child in vis:\n",
    "                queue.append(child)\n",
    "                parent[child] = node\n",
    "            else:\n",
    "                if parent[node] != child:\n",
    "                    return False\n",
    "    return len(vis) == len(graph)\n"
   ]
  },
  {
   "cell_type": "code",
   "execution_count": 42,
   "metadata": {},
   "outputs": [],
   "source": [
    "graph = {\n",
    "1: [2, 3],\n",
    "2: [1, 3],\n",
    "3: [1, 2]\n",
    "}"
   ]
  },
  {
   "cell_type": "code",
   "execution_count": 44,
   "metadata": {},
   "outputs": [
    {
     "data": {
      "text/plain": [
       "False"
      ]
     },
     "execution_count": 44,
     "metadata": {},
     "output_type": "execute_result"
    }
   ],
   "source": [
    "is_tree(graph, 1)"
   ]
  },
  {
   "cell_type": "code",
   "execution_count": 28,
   "metadata": {},
   "outputs": [],
   "source": [
    "graph = {\n",
    "'A': {'B':1, 'C': 5},\n",
    "\"B\": {\"A\":1, 'C':2},\n",
    "}"
   ]
  },
  {
   "cell_type": "code",
   "execution_count": 45,
   "metadata": {},
   "outputs": [],
   "source": [
    "def vertexWithMinWeight(graph, visited, dist):\n",
    "    index = ''\n",
    "    dist_min = 1e31\n",
    "    for vertex in graph:\n",
    "        if dist[vertex] < dist_min and not visited[vertex]:\n",
    "            dist_min = dist[vertex]\n",
    "            index = vertex\n",
    "    return index\n",
    "\n",
    "def dijkstra(graph, start):\n",
    "    INF = 1e31\n",
    "    visited = {}\n",
    "    for vertex in range(graph):\n",
    "        visited[vertex] = False\n",
    "\n",
    "    dist = {}\n",
    "    for vertex in range(graph):\n",
    "        dist[vertex] = INF\n",
    "\n",
    "    dist[start] = 0\n",
    "    while False in visited:\n",
    "        u = vertexWithMinWeight(graph, visited, dist)\n",
    "        for v in graph[u]:\n",
    "            if graph[u][v] != 0 and not visited[v]:\n",
    "                dist[v] = min(dist[v], dist[u] + graph[u][v])\n",
    "\n",
    "        visited[u] = True\n",
    "    return dist\n"
   ]
  },
  {
   "cell_type": "code",
   "execution_count": 46,
   "metadata": {},
   "outputs": [
    {
     "data": {
      "text/plain": [
       "{1: [2, 3], 2: [1, 3], 3: [1, 2]}"
      ]
     },
     "execution_count": 46,
     "metadata": {},
     "output_type": "execute_result"
    }
   ],
   "source": [
    "graph"
   ]
  },
  {
   "cell_type": "code",
   "execution_count": null,
   "metadata": {},
   "outputs": [],
   "source": []
  }
 ],
 "metadata": {
  "kernelspec": {
   "display_name": "Python 3",
   "language": "python",
   "name": "python3"
  },
  "language_info": {
   "codemirror_mode": {
    "name": "ipython",
    "version": 3
   },
   "file_extension": ".py",
   "mimetype": "text/x-python",
   "name": "python",
   "nbconvert_exporter": "python",
   "pygments_lexer": "ipython3",
   "version": "3.11.9"
  }
 },
 "nbformat": 4,
 "nbformat_minor": 2
}
