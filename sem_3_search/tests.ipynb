{
 "cells": [
  {
   "cell_type": "markdown",
   "metadata": {},
   "source": [
    "## Первая задача\n",
    "\n",
    "Как быстро можно сделать N копий документа, используя два ксерокса, каждый копирует со своей скоростью (x и y минут)?\n",
    "\n",
    "__Условие__: Сегодня утром жюри решило добавить в вариант олимпиады еще одну, Очень Легкую Задачу. Ответственный секретарь Оргкомитета напечатал ее условие в одном экземпляре, и теперь ему нужно до начала олимпиады успеть сделать еще N копий. В его распоряжении имеются два ксерокса, один из которых\n",
    "копирует лист за х секунд, а другой – за y. (Разрешается использовать как один ксерокс, так и оба одновременно. Можно копировать не только с оригинала, но и с копии.) Помогите ему выяснить, какое минимальное время для этого потребуется.\n",
    " "
   ]
  },
  {
   "cell_type": "code",
   "execution_count": 88,
   "metadata": {},
   "outputs": [
    {
     "data": {
      "text/plain": [
       "23"
      ]
     },
     "execution_count": 88,
     "metadata": {},
     "output_type": "execute_result"
    }
   ],
   "source": [
    "from simple_task import time_copy\n",
    "time_copy(11, 3, 5)"
   ]
  },
  {
   "cell_type": "markdown",
   "metadata": {},
   "source": [
    "## Проверка строки на подпоследовательность (через 2 указателя)\n",
    "\n",
    "__Условие:__ В исходную строку добавили некоторое количество символов. Необходимо выявить, является ли строка a подстрокой b. Или другими словами была ли она исходной для b."
   ]
  },
  {
   "cell_type": "code",
   "execution_count": 1,
   "metadata": {},
   "outputs": [
    {
     "data": {
      "text/plain": [
       "True"
      ]
     },
     "execution_count": 1,
     "metadata": {},
     "output_type": "execute_result"
    }
   ],
   "source": [
    "from subseq import is_IN, isSubsequence, isSubsequenceMod\n",
    "\n",
    "A = 'io'\n",
    "B = 'iio'\n",
    "is_IN(A, B)"
   ]
  },
  {
   "cell_type": "code",
   "execution_count": 2,
   "metadata": {},
   "outputs": [
    {
     "name": "stdout",
     "output_type": "stream",
     "text": [
      "True\n",
      "True\n"
     ]
    }
   ],
   "source": [
    "# Алгорим с лекции\n",
    "\n",
    "A = 'ipork'\n",
    "B = 'gripork'\n",
    "C = 'ipgrork'\n",
    "\n",
    "print(isSubsequence(A, B))\n",
    "print(isSubsequence(A, C))\n"
   ]
  },
  {
   "cell_type": "code",
   "execution_count": 3,
   "metadata": {},
   "outputs": [
    {
     "name": "stdout",
     "output_type": "stream",
     "text": [
      "True\n",
      "False\n"
     ]
    }
   ],
   "source": [
    "# Алгорим с лекции модифицированный\n",
    "'''\n",
    "Алгоритм проверяет наличие вхождения\n",
    "целой(неразрывной) строки в другую строку.\n",
    "'''\n",
    "A = 'ipork'\n",
    "B = 'gripork'\n",
    "C = 'ipgrork'\n",
    "\n",
    "print(isSubsequenceMod(A, B))\n",
    "print(isSubsequenceMod(A, C))"
   ]
  },
  {
   "cell_type": "markdown",
   "metadata": {},
   "source": [
    "## Поиск корня числа \n",
    "\n",
    "__Условие:__ Найти ближайшее к корню снизу целое число."
   ]
  },
  {
   "cell_type": "code",
   "execution_count": 4,
   "metadata": {},
   "outputs": [
    {
     "name": "stdout",
     "output_type": "stream",
     "text": [
      "sqrt(35) = 5.916079783099616\n",
      "find_sqrt(35) = 5\n"
     ]
    }
   ],
   "source": [
    "from sqrt import find_sqrt\n",
    "\n",
    "print('sqrt(35) =', 35**0.5)\n",
    "print(f'{find_sqrt(35) = }')"
   ]
  },
  {
   "cell_type": "markdown",
   "metadata": {},
   "source": [
    "## Является ли слово палиндромом?\n",
    "\n",
    "__Условие:__ Написать функцию, которая принимает строку и возвращает true в случае, если\n",
    "строка является палиндромом и false в противном случае."
   ]
  },
  {
   "cell_type": "code",
   "execution_count": 111,
   "metadata": {},
   "outputs": [
    {
     "name": "stdout",
     "output_type": "stream",
     "text": [
      "True\n",
      "True\n",
      "True\n",
      "False\n",
      "True\n"
     ]
    }
   ],
   "source": [
    "from palindrome import is_palindrome\n",
    "print(is_palindrome(''))\n",
    "print(is_palindrome('a'))\n",
    "print(is_palindrome('ABBA'))\n",
    "print(is_palindrome('abracadabra'))\n",
    "print(is_palindrome('abracacarba'))"
   ]
  },
  {
   "cell_type": "code",
   "execution_count": 5,
   "metadata": {},
   "outputs": [
    {
     "name": "stdout",
     "output_type": "stream",
     "text": [
      "True\n",
      "True\n",
      "True\n",
      "False\n",
      "True\n"
     ]
    }
   ],
   "source": [
    "from palindrome import is_palindrome_with_stack\n",
    "print(is_palindrome_with_stack(''))\n",
    "print(is_palindrome_with_stack('a'))\n",
    "print(is_palindrome_with_stack('ABBA'))\n",
    "print(is_palindrome_with_stack('abracadabra'))\n",
    "print(is_palindrome_with_stack('abracacarba'))"
   ]
  },
  {
   "cell_type": "markdown",
   "metadata": {},
   "source": [
    "## Удаление рядом стоящих дубликатов\n",
    "\n",
    "__Условие:__ дана строка s. Строка состоит из английских букв в нижнем регистре. Необходимо из\n",
    "строки удалить все рядом стоящие повторяющиеся буквы. Например, в строке xyyx\n",
    "мы должны удалить yy, а после и оставшиеся xx и того, после должна получиться\n",
    "пустая строка. Или же в строке fqffqzzsd после удаления остануться только fsd.\n",
    "Первыми удаляться ff, являющимися третьими и четвертыми символами, затем qq и\n",
    "после уже zz.\n",
    "\n",
    "Test 1\n",
    "```\n",
    " IN:fqffqzzsd\n",
    "OUT:fsd\n",
    "```\n",
    "\n",
    "Test 2\n",
    "```\n",
    " IN: cdffd\n",
    "OUT: с\n",
    "```\n",
    "Test 3\n",
    "```\n",
    " IN: uioouiouuo\n",
    "OUT: uiui\n",
    "```"
   ]
  },
  {
   "cell_type": "code",
   "execution_count": 64,
   "metadata": {},
   "outputs": [
    {
     "name": "stdout",
     "output_type": "stream",
     "text": [
      "fsd\n",
      "c\n",
      "uiui\n"
     ]
    }
   ],
   "source": [
    "from duplicates import del_dupl\n",
    "\n",
    "a= 'fqffqzzsd'\n",
    "print(del_dupl(a))\n",
    "a= 'cdffd'\n",
    "print(del_dupl(a))\n",
    "a = 'uioouiouuo'\n",
    "print(del_dupl(a))\n"
   ]
  },
  {
   "cell_type": "code",
   "execution_count": null,
   "metadata": {},
   "outputs": [],
   "source": []
  }
 ],
 "metadata": {
  "kernelspec": {
   "display_name": "Python 3",
   "language": "python",
   "name": "python3"
  },
  "language_info": {
   "codemirror_mode": {
    "name": "ipython",
    "version": 3
   },
   "file_extension": ".py",
   "mimetype": "text/x-python",
   "name": "python",
   "nbconvert_exporter": "python",
   "pygments_lexer": "ipython3",
   "version": "3.11.9"
  }
 },
 "nbformat": 4,
 "nbformat_minor": 2
}
