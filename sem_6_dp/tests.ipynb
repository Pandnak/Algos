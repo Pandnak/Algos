{
 "cells": [
  {
   "cell_type": "markdown",
   "metadata": {},
   "source": [
    "## Последовательность из 0 и 1\n",
    "Требуется подсчитать количество последовательностей длины N состоящей из 0 и 1 в которых нет стоящих подряд двух единиц."
   ]
  },
  {
   "cell_type": "code",
   "execution_count": 14,
   "metadata": {},
   "outputs": [],
   "source": [
    "def count_seq(length):\n",
    "    # if (length == 0):\n",
    "    #     return 1\n",
    "    # if (length == 1):\n",
    "    #     return 2\n",
    "    dp = [1, 2]\n",
    "\n",
    "    for i in range(2, length + 1):\n",
    "        dp.append(dp[i-1] + dp[i-2])\n",
    "\n",
    "    return dp[-1]"
   ]
  },
  {
   "cell_type": "code",
   "execution_count": 18,
   "metadata": {},
   "outputs": [
    {
     "name": "stdout",
     "output_type": "stream",
     "text": [
      "55\n"
     ]
    }
   ],
   "source": [
    "n = 8\n",
    "print(count_seq(n))"
   ]
  },
  {
   "cell_type": "code",
   "execution_count": 21,
   "metadata": {},
   "outputs": [],
   "source": [
    "def count_sequences(length, k):\n",
    "    # if (length == 0):\n",
    "    #     return 1\n",
    "    # if (length == 1):\n",
    "    #     return 2\n",
    "    dp = [1, 2, 4]\n",
    "\n",
    "    for i in range(2, length + 1):\n",
    "        sum = 0\n",
    "        for j in range(1, k+1):\n",
    "            sum += dp[i-j]\n",
    "        dp.append(sum)\n",
    "\n",
    "    return dp[-1]"
   ]
  },
  {
   "cell_type": "code",
   "execution_count": 22,
   "metadata": {},
   "outputs": [
    {
     "data": {
      "text/plain": [
       "13"
      ]
     },
     "execution_count": 22,
     "metadata": {},
     "output_type": "execute_result"
    }
   ],
   "source": [
    "count_sequences(4, 3)"
   ]
  },
  {
   "cell_type": "markdown",
   "metadata": {},
   "source": [
    "## Наибольшая возрастающая последовательность\n",
    "\n",
    "Дан массив не отсортированных чисел. Необходимо найти максимально длинную возрастающую последовательность и вернуть ее длину.\n",
    "\n",
    "IN: [3, 2, 8, 9, 5, 10] \n",
    "\n",
    "OUT: 3 \n",
    "\n",
    "IN: [1, 2, 7, 9, 0, 10] \n",
    "\n",
    "OUT: 4 \n",
    "\n",
    "IN: [8, 8, 8, 8] \n",
    "\n",
    "OUT: 1"
   ]
  },
  {
   "cell_type": "code",
   "execution_count": 1,
   "metadata": {},
   "outputs": [],
   "source": [
    "def findLIS(nums):\n",
    "    if len(nums) == 0:\n",
    "        return 0\n",
    "    if len(nums) == 1:\n",
    "        return 1\n",
    "\n",
    "    dp = [1] * len(nums)\n",
    "\n",
    "    for i in range(1, len(nums)):\n",
    "        if nums[i] > nums[i-1]:\n",
    "            dp[i] = dp[i-1] + 1\n",
    "\n",
    "    return dp"
   ]
  },
  {
   "cell_type": "code",
   "execution_count": 2,
   "metadata": {},
   "outputs": [],
   "source": [
    "def find_LIS(nums):\n",
    "    if len(nums) == 0:\n",
    "        return 0\n",
    "    if len(nums) == 1:\n",
    "        return 1\n",
    "\n",
    "    max_count = 1\n",
    "    count = 1\n",
    "\n",
    "    for i in range(1, len(nums)):\n",
    "        if nums[i] > nums[i-1]:\n",
    "            count += 1\n",
    "        else:\n",
    "            max_count = max(max_count, count)\n",
    "            count = 1\n",
    "\n",
    "    return max_count"
   ]
  },
  {
   "cell_type": "code",
   "execution_count": 3,
   "metadata": {},
   "outputs": [
    {
     "name": "stdout",
     "output_type": "stream",
     "text": [
      "2.21 µs ± 66.5 ns per loop (mean ± std. dev. of 7 runs, 100,000 loops each)\n"
     ]
    }
   ],
   "source": [
    "# import time\n",
    "\n",
    "%timeit findLIS([2,3,7,2,5,1,6,8,10])"
   ]
  },
  {
   "cell_type": "code",
   "execution_count": 6,
   "metadata": {},
   "outputs": [],
   "source": [
    "nums = [2,3,7,2,5,1,6,8,10]"
   ]
  },
  {
   "cell_type": "code",
   "execution_count": 4,
   "metadata": {},
   "outputs": [
    {
     "name": "stdout",
     "output_type": "stream",
     "text": [
      "24.7 ns ± 1.21 ns per loop (mean ± std. dev. of 7 runs, 10,000,000 loops each)\n"
     ]
    }
   ],
   "source": [
    "%timeit max_count, count = 1, 1"
   ]
  },
  {
   "cell_type": "code",
   "execution_count": 7,
   "metadata": {},
   "outputs": [
    {
     "name": "stdout",
     "output_type": "stream",
     "text": [
      "214 ns ± 34 ns per loop (mean ± std. dev. of 7 runs, 10,000,000 loops each)\n"
     ]
    }
   ],
   "source": [
    "%timeit dp = [1] * len(nums)"
   ]
  },
  {
   "cell_type": "code",
   "execution_count": 10,
   "metadata": {},
   "outputs": [
    {
     "data": {
      "text/plain": [
       "4"
      ]
     },
     "execution_count": 10,
     "metadata": {},
     "output_type": "execute_result"
    }
   ],
   "source": [
    "count = 0\n",
    "max_count = 0\n",
    "for i in range(1, len(nums)):\n",
    "    if nums[i] > nums[i-1]:\n",
    "        count += 1\n",
    "    else:\n",
    "        max_count = max(max_count, count)\n",
    "        count = 1\n",
    "count"
   ]
  },
  {
   "cell_type": "markdown",
   "metadata": {},
   "source": [
    "## Треугольник Паскаля\n",
    "\n",
    "Дано некоторое число n. Необходимо создать треугольник Паскаля состоящего из n строк."
   ]
  },
  {
   "cell_type": "code",
   "execution_count": 56,
   "metadata": {},
   "outputs": [],
   "source": [
    "def print_triangle(dp):\n",
    "    for row in dp:\n",
    "        print(row)"
   ]
  },
  {
   "cell_type": "code",
   "execution_count": 57,
   "metadata": {},
   "outputs": [],
   "source": [
    "def pascal(n):\n",
    "    if n == 0:\n",
    "        return 0\n",
    "\n",
    "    dp = [[1] * n]\n",
    "\n",
    "    for i in range(1, n):\n",
    "        arr = [1] * (n-i)\n",
    "        arr[0] = 1\n",
    "        for j in range(1, n-i):\n",
    "            arr[j] = arr[j-1] + dp[i-1][j]\n",
    "        dp.append(arr)\n",
    "\n",
    "    return dp"
   ]
  },
  {
   "cell_type": "code",
   "execution_count": 58,
   "metadata": {},
   "outputs": [
    {
     "name": "stdout",
     "output_type": "stream",
     "text": [
      "[1, 1, 1, 1, 1, 1, 1, 1]\n",
      "[1, 2, 3, 4, 5, 6, 7]\n",
      "[1, 3, 6, 10, 15, 21]\n",
      "[1, 4, 10, 20, 35]\n",
      "[1, 5, 15, 35]\n",
      "[1, 6, 21]\n",
      "[1, 7]\n",
      "[1]\n"
     ]
    }
   ],
   "source": [
    "triangle = pascal(8)\n",
    "print_triangle(triangle)"
   ]
  },
  {
   "cell_type": "code",
   "execution_count": 59,
   "metadata": {},
   "outputs": [],
   "source": [
    "n = 8\n",
    "def pascal_triangle(row, col):\n",
    "    if col == 0 or row == 0:\n",
    "        return 1\n",
    "\n",
    "    return  pascal_triangle(row, col - 1) + pascal_triangle(row - 1, col)\n",
    "\n",
    "\n",
    "dp = []\n",
    "for row in range(n):\n",
    "    curRow = []\n",
    "    for col in range(n - row):\n",
    "        res = pascal_triangle(row, col)\n",
    "        curRow.append(res)\n",
    "    dp.append(curRow)"
   ]
  },
  {
   "cell_type": "code",
   "execution_count": 60,
   "metadata": {},
   "outputs": [
    {
     "name": "stdout",
     "output_type": "stream",
     "text": [
      "[1, 1, 1, 1, 1, 1, 1, 1]\n",
      "[1, 2, 3, 4, 5, 6, 7]\n",
      "[1, 3, 6, 10, 15, 21]\n",
      "[1, 4, 10, 20, 35]\n",
      "[1, 5, 15, 35]\n",
      "[1, 6, 21]\n",
      "[1, 7]\n",
      "[1]\n"
     ]
    }
   ],
   "source": [
    "print_triangle(dp)"
   ]
  },
  {
   "cell_type": "code",
   "execution_count": 61,
   "metadata": {},
   "outputs": [],
   "source": [
    "import numpy as np\n",
    "\n",
    "def get_blanket(depth, row, col):\n",
    "    blank = [[0] * n for n in range(depth, 0, -1)]\n",
    "    for i in range(row, depth - col):\n",
    "        for j in range(col, depth - i):\n",
    "            blank[i][j] = 1\n",
    "    return blank\n",
    "\n",
    "def sum_triangle(input, delta):\n",
    "    for i in range(len(input)):\n",
    "        for j in range(len(input[i])):\n",
    "            input[i][j] += delta[i][j]\n",
    "    return input\n",
    "\n",
    "def pascal_triangle_my(depth, peak_row, peak_col):\n",
    "    blank = get_blanket(depth, peak_row, peak_col)\n",
    "    if (peak_row + peak_col == depth - 1):\n",
    "        return blank\n",
    "    for i in range(peak_row + 1, depth-1):\n",
    "        for j in range(peak_col + 1, depth - i):\n",
    "            delta = pascal_triangle_my(depth, i, j)\n",
    "\n",
    "            blank = sum_triangle(blank, delta)\n",
    "\n",
    "    return blank"
   ]
  },
  {
   "cell_type": "code",
   "execution_count": 62,
   "metadata": {},
   "outputs": [
    {
     "name": "stdout",
     "output_type": "stream",
     "text": [
      "[1, 1, 1, 1, 1, 1, 1]\n",
      "[1, 2, 3, 4, 5, 6]\n",
      "[1, 3, 6, 10, 15]\n",
      "[1, 4, 10, 20]\n",
      "[1, 5, 15]\n",
      "[1, 6]\n",
      "[1]\n"
     ]
    }
   ],
   "source": [
    "print_triangle(pascal_triangle_my(7, 0, 0))"
   ]
  },
  {
   "cell_type": "markdown",
   "metadata": {},
   "source": [
    "### Динамическое программирование на деревьях\n",
    "\n",
    "Дано бинарное дерево. Необходимо вернуть путь с макс. суммой, которая может получиться при проходе дерева по одному пути."
   ]
  },
  {
   "cell_type": "code",
   "execution_count": 102,
   "metadata": {},
   "outputs": [],
   "source": [
    "class TreeNode:\n",
    "    def __init__(self, val=0, left=None, right=None):\n",
    "        self.val = val\n",
    "        self.left = left\n",
    "        self.right = right\n",
    "\n",
    "    def insert(self, val):\n",
    "        if self.val == val:\n",
    "            return\n",
    "        elif self.val < val:\n",
    "            if self.right is None:\n",
    "                self.right = TreeNode(val)\n",
    "            else:\n",
    "                self.right.insert(val)\n",
    "        else:  # self.val > val\n",
    "            if self.left is None:\n",
    "                self.left = TreeNode(val)\n",
    "            else:\n",
    "                self.left.insert(val)\n",
    "\n",
    "    def display(self):\n",
    "        lines, *_ = self._display_aux()\n",
    "        for line in lines:\n",
    "            print(line)\n",
    "\n",
    "    def _display_aux(self):\n",
    "        \"\"\"Returns list of strings, width, height, and horizontal coordinate of the root.\"\"\"\n",
    "        # No child.\n",
    "        if self.right is None and self.left is None:\n",
    "            line = \"%s\" % self.val\n",
    "            width = len(line)\n",
    "            height = 1\n",
    "            middle = width // 2\n",
    "            return [line], width, height, middle\n",
    "\n",
    "        # Only left child.\n",
    "        if self.right is None:\n",
    "            lines, n, p, x = self.left._display_aux()\n",
    "            s = \"%s\" % self.val\n",
    "            u = len(s)\n",
    "            first_line = (x + 1) * \" \" + (n - x - 1) * \"_\" + s\n",
    "            second_line = x * \" \" + \"/\" + (n - x - 1 + u) * \" \"\n",
    "            shifted_lines = [line + u * \" \" for line in lines]\n",
    "            return [first_line, second_line] + shifted_lines, n + u, p + 2, n + u // 2\n",
    "\n",
    "        # Only right child.\n",
    "        if self.left is None:\n",
    "            lines, n, p, x = self.right._display_aux()\n",
    "            s = \"%s\" % self.val\n",
    "            u = len(s)\n",
    "            first_line = s + x * \"_\" + (n - x) * \" \"\n",
    "            second_line = (u + x) * \" \" + \"\\\\\" + (n - x - 1) * \" \"\n",
    "            shifted_lines = [u * \" \" + line for line in lines]\n",
    "            return [first_line, second_line] + shifted_lines, n + u, p + 2, u // 2\n",
    "\n",
    "        # Two children.\n",
    "        left, n, p, x = self.left._display_aux()\n",
    "        right, m, q, y = self.right._display_aux()\n",
    "        s = \"%s\" % self.val\n",
    "        u = len(s)\n",
    "        first_line = (x + 1) * \" \" + (n - x - 1) * \"_\" + s + y * \"_\" + (m - y) * \" \"\n",
    "        second_line = (\n",
    "            x * \" \" + \"/\" + (n - x - 1 + u + y) * \" \" + \"\\\\\" + (m - y - 1) * \" \"\n",
    "        )\n",
    "        if p < q:\n",
    "            left += [n * \" \"] * (q - p)\n",
    "        elif q < p:\n",
    "            right += [m * \" \"] * (p - q)\n",
    "        zipped_lines = zip(left, right)\n",
    "        lines = [first_line, second_line] + [a + u * \" \" + b for a, b in zipped_lines]\n",
    "        return lines, n + m + u, max(p, q) + 2, n + u // 2\n",
    "\n",
    "def buildTree(arr, i):\n",
    "    if (i >= len(arr)):\n",
    "        return None\n",
    "\n",
    "    root = TreeNode(arr[i])\n",
    "    root.left = buildTree(arr, 2*i + 1)\n",
    "    root.right = buildTree(arr, 2*i + 2)\n",
    "\n",
    "    return root"
   ]
  },
  {
   "cell_type": "code",
   "execution_count": 195,
   "metadata": {},
   "outputs": [],
   "source": [
    "def find_pricely_path(root):\n",
    "    def dfs(node):\n",
    "        if not node:\n",
    "            return 0, []\n",
    "        if node.val == None:\n",
    "            node.val = 0\n",
    "\n",
    "        left_sum, left_path = dfs(node.left)\n",
    "        right_sum, right_path = dfs(node.right)\n",
    "\n",
    "        if (left_sum > right_sum):\n",
    "            cur_max_path = left_path + [node.val]\n",
    "        else:\n",
    "            cur_max_path = right_path + [node.val]\n",
    "\n",
    "        cur_max_sum = max(left_sum, right_sum) + node.val\n",
    "\n",
    "        global max_sum\n",
    "\n",
    "        print(node.val , max_sum, left_sum + node.val + right_sum)\n",
    "\n",
    "        if left_sum + node.val + right_sum > max_sum :\n",
    "            max_sum = left_sum + node.val + right_sum\n",
    "            max_path = left_path + [node.val] + right_path\n",
    "\n",
    "\n",
    "        return cur_max_sum, cur_max_path\n",
    "\n",
    "    max_path = []\n",
    "    max_sum = -1e31\n",
    "    max_sum, max_path = dfs(root)\n",
    "    return max_sum, max_path"
   ]
  },
  {
   "cell_type": "code",
   "execution_count": 196,
   "metadata": {},
   "outputs": [
    {
     "name": "stdout",
     "output_type": "stream",
     "text": [
      "       ___8____     \n",
      "      /        \\    \n",
      "    __3__     _2__  \n",
      "   /     \\   /    \\ \n",
      "  88_    4 None None\n",
      " /   \\  /           \n",
      "21  33 11           \n"
     ]
    }
   ],
   "source": [
    "tree = buildTree([8, 3, 2, 88, 4, None, None, 21, 33, 11], 0)\n",
    "\n",
    "tree.display()"
   ]
  },
  {
   "cell_type": "code",
   "execution_count": 197,
   "metadata": {},
   "outputs": [
    {
     "name": "stdout",
     "output_type": "stream",
     "text": [
      "21 142 21\n",
      "33 142 33\n",
      "88 142 142\n",
      "11 142 11\n",
      "4 142 15\n",
      "3 142 139\n",
      "0 142 0\n",
      "0 142 0\n",
      "2 142 2\n",
      "8 142 134\n"
     ]
    },
    {
     "data": {
      "text/plain": [
       "(132, [33, 88, 3, 8])"
      ]
     },
     "execution_count": 197,
     "metadata": {},
     "output_type": "execute_result"
    }
   ],
   "source": [
    "find_pricely_path(tree)"
   ]
  },
  {
   "cell_type": "markdown",
   "metadata": {},
   "source": [
    "## Максимальная выгода\n",
    "Дан массив целых чисел. Каждое число - стоимость акции. Нам нужно купить максимально дешево, а продать максимально дорого. Сделать это надо за O(n)"
   ]
  },
  {
   "cell_type": "code",
   "execution_count": 96,
   "metadata": {},
   "outputs": [],
   "source": [
    "def max_profit(a):\n",
    "    min_p = 0\n",
    "    max_p = 0\n",
    "    max_prof = 0\n",
    "\n",
    "    for i in range(1, len(a)):\n",
    "        if (a[i] < a[min_p]):\n",
    "            max_p = min_p = i\n",
    "\n",
    "        if (a[i] > a[max_p]):\n",
    "            max_p = i\n",
    "            max_prof = max(max_prof, a[max_p] - a[min_p])\n",
    "\n",
    "    return max_prof"
   ]
  },
  {
   "cell_type": "code",
   "execution_count": 97,
   "metadata": {},
   "outputs": [
    {
     "data": {
      "text/plain": [
       "13"
      ]
     },
     "execution_count": 97,
     "metadata": {},
     "output_type": "execute_result"
    }
   ],
   "source": [
    "a = [8, 9, 3, 7, 11, 4, 16, 12]\n",
    "max_profit(a)"
   ]
  },
  {
   "cell_type": "code",
   "execution_count": 98,
   "metadata": {},
   "outputs": [
    {
     "data": {
      "text/plain": [
       "6"
      ]
     },
     "execution_count": 98,
     "metadata": {},
     "output_type": "execute_result"
    }
   ],
   "source": [
    "max_profit([1,2,3,4,5,6,7])"
   ]
  },
  {
   "cell_type": "code",
   "execution_count": 99,
   "metadata": {},
   "outputs": [
    {
     "data": {
      "text/plain": [
       "0"
      ]
     },
     "execution_count": 99,
     "metadata": {},
     "output_type": "execute_result"
    }
   ],
   "source": [
    "max_profit([8,7,6,5,4,3,2])"
   ]
  },
  {
   "cell_type": "markdown",
   "metadata": {},
   "source": [
    "## Размен монет\n",
    "\n",
    "Дан массив целых чисел coin, где каждое число - номинал монеты и некоторое число amount - сумма монет из массива. Необходимо найти наименьшее количество монет, которое в сумме дало бы amount. Если такой комбинации нет - возвращаем -1."
   ]
  },
  {
   "cell_type": "markdown",
   "metadata": {},
   "source": [
    "### Тесты:\n",
    "___\n",
    "coins = [1,2,5], amount = 11\n",
    "\n",
    "Результат: 3\n",
    "\n",
    "Решение: 11 = 5 + 5 + 1\n",
    "___\n",
    "coins = [2], amount = 3\n",
    "\n",
    "Результат: -1\n",
    "___"
   ]
  },
  {
   "cell_type": "code",
   "execution_count": 212,
   "metadata": {},
   "outputs": [],
   "source": [
    "maxsize = 1e31\n",
    "def minCoins(coins, V):\n",
    "    if (V == 0):\n",
    "        return 0\n",
    "\n",
    "    res = maxsize\n",
    "    for i in range(0, len(coins)):\n",
    "        if (coins[i] <= V):\n",
    "            sub_res = minCoins(coins, V-coins[i])\n",
    "\n",
    "            if (sub_res != maxsize and sub_res + 1 < res):\n",
    "                res = sub_res + 1\n",
    "\n",
    "    return res"
   ]
  },
  {
   "cell_type": "code",
   "execution_count": 214,
   "metadata": {},
   "outputs": [
    {
     "name": "stdout",
     "output_type": "stream",
     "text": [
      "Minimum coins required is 3\n"
     ]
    }
   ],
   "source": [
    "coins = [1,2,5,10]\n",
    "V = 13\n",
    "print(\"Minimum coins required is\",minCoins(coins, V))"
   ]
  },
  {
   "cell_type": "code",
   "execution_count": null,
   "metadata": {},
   "outputs": [],
   "source": []
  }
 ],
 "metadata": {
  "kernelspec": {
   "display_name": "Python 3",
   "language": "python",
   "name": "python3"
  },
  "language_info": {
   "codemirror_mode": {
    "name": "ipython",
    "version": 3
   },
   "file_extension": ".py",
   "mimetype": "text/x-python",
   "name": "python",
   "nbconvert_exporter": "python",
   "pygments_lexer": "ipython3",
   "version": "3.11.9"
  }
 },
 "nbformat": 4,
 "nbformat_minor": 2
}
